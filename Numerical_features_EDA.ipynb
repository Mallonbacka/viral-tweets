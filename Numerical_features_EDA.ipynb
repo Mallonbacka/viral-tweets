{
  "nbformat": 4,
  "nbformat_minor": 0,
  "metadata": {
    "colab": {
      "name": "Numerical_features_EDA.ipynb",
      "provenance": [],
      "collapsed_sections": []
    },
    "kernelspec": {
      "display_name": "Python 3",
      "name": "python3"
    },
    "language_info": {
      "name": "python"
    }
  },
  "cells": [
    {
      "cell_type": "code",
      "metadata": {
        "id": "Ks64nnqtnlnx"
      },
      "source": [
        "import pandas as pd"
      ],
      "execution_count": 1,
      "outputs": []
    },
    {
      "cell_type": "markdown",
      "metadata": {
        "id": "7kKLQ8RHGpRP"
      },
      "source": [
        "# New Section"
      ]
    },
    {
      "cell_type": "code",
      "metadata": {
        "colab": {
          "base_uri": "https://localhost:8080/"
        },
        "id": "wlRMLdLKpFjl",
        "outputId": "6c7ca431-8be9-41ca-dfcf-b421e8b10a14"
      },
      "source": [
        "from google.colab import drive\n",
        "drive.mount('/content/drive')"
      ],
      "execution_count": 2,
      "outputs": [
        {
          "output_type": "stream",
          "name": "stdout",
          "text": [
            "Mounted at /content/drive\n"
          ]
        }
      ]
    },
    {
      "cell_type": "code",
      "metadata": {
        "id": "s2WMQfho8hZO"
      },
      "source": [
        ""
      ],
      "execution_count": null,
      "outputs": []
    },
    {
      "cell_type": "code",
      "metadata": {
        "id": "xuwh6_wopFyN"
      },
      "source": [
        "path = \"/content/drive/MyDrive/Data/tweets_20201231_verified_norep.json\"\n",
        "df = pd.read_json(path)\n",
        "# Dataset is now stored in a Pandas Dataframe"
      ],
      "execution_count": null,
      "outputs": []
    },
    {
      "cell_type": "code",
      "metadata": {
        "colab": {
          "base_uri": "https://localhost:8080/"
        },
        "id": "akFyxiMTpFzZ",
        "outputId": "91f98cad-1cac-4f9a-a2c1-0c411f88fd98"
      },
      "source": [
        "df.shape"
      ],
      "execution_count": null,
      "outputs": [
        {
          "data": {
            "text/plain": [
              "(762377, 38)"
            ]
          },
          "execution_count": 6,
          "metadata": {},
          "output_type": "execute_result"
        }
      ]
    },
    {
      "cell_type": "code",
      "metadata": {
        "colab": {
          "base_uri": "https://localhost:8080/"
        },
        "id": "YkggzaompF5w",
        "outputId": "3125c09e-c461-4a3a-fcde-e2321f3f8e31"
      },
      "source": [
        "df.info()"
      ],
      "execution_count": null,
      "outputs": [
        {
          "name": "stdout",
          "output_type": "stream",
          "text": [
            "<class 'pandas.core.frame.DataFrame'>\n",
            "RangeIndex: 762377 entries, 0 to 762376\n",
            "Data columns (total 38 columns):\n",
            " #   Column             Non-Null Count   Dtype              \n",
            "---  ------             --------------   -----              \n",
            " 0   id                 762377 non-null  int64              \n",
            " 1   conversation_id    762377 non-null  int64              \n",
            " 2   created_at         762377 non-null  datetime64[ns, UTC]\n",
            " 3   date               762377 non-null  datetime64[ns]     \n",
            " 4   time               762377 non-null  object             \n",
            " 5   timezone           762377 non-null  int64              \n",
            " 6   user_id            762377 non-null  int64              \n",
            " 7   username           762377 non-null  object             \n",
            " 8   name               762377 non-null  object             \n",
            " 9   place              760602 non-null  object             \n",
            " 10  tweet              762377 non-null  object             \n",
            " 11  language           762377 non-null  object             \n",
            " 12  mentions           155812 non-null  object             \n",
            " 13  urls               408311 non-null  object             \n",
            " 14  photos             201223 non-null  object             \n",
            " 15  replies_count      762377 non-null  int64              \n",
            " 16  retweets_count     762377 non-null  int64              \n",
            " 17  likes_count        762377 non-null  int64              \n",
            " 18  hashtags           203004 non-null  object             \n",
            " 19  cashtags           1147 non-null    object             \n",
            " 20  link               762377 non-null  object             \n",
            " 21  retweet            762377 non-null  bool               \n",
            " 22  quote_url          762377 non-null  object             \n",
            " 23  video              762377 non-null  int64              \n",
            " 24  thumbnail          762377 non-null  object             \n",
            " 25  near               762377 non-null  object             \n",
            " 26  geo                762377 non-null  object             \n",
            " 27  source             762377 non-null  object             \n",
            " 28  user_rt_id         762377 non-null  object             \n",
            " 29  user_rt            762377 non-null  object             \n",
            " 30  retweet_id         762377 non-null  object             \n",
            " 31  reply_to           0 non-null       float64            \n",
            " 32  retweet_date       762377 non-null  object             \n",
            " 33  translate          762377 non-null  object             \n",
            " 34  trans_src          762377 non-null  object             \n",
            " 35  trans_dest         762377 non-null  object             \n",
            " 36  place.type         1775 non-null    object             \n",
            " 37  place.coordinates  1775 non-null    object             \n",
            "dtypes: bool(1), datetime64[ns, UTC](1), datetime64[ns](1), float64(1), int64(8), object(26)\n",
            "memory usage: 215.9+ MB\n"
          ]
        }
      ]
    },
    {
      "cell_type": "code",
      "metadata": {
        "colab": {
          "base_uri": "https://localhost:8080/"
        },
        "id": "SYalrORjpF7M",
        "outputId": "efc0f773-2575-4def-bc8e-d881299711c5"
      },
      "source": [
        "df.isna().sum()"
      ],
      "execution_count": null,
      "outputs": [
        {
          "data": {
            "text/plain": [
              "id                        0\n",
              "conversation_id           0\n",
              "created_at                0\n",
              "date                      0\n",
              "time                      0\n",
              "timezone                  0\n",
              "user_id                   0\n",
              "username                  0\n",
              "name                      0\n",
              "place                  1775\n",
              "tweet                     0\n",
              "language                  0\n",
              "mentions             606565\n",
              "urls                 354066\n",
              "photos               561154\n",
              "replies_count             0\n",
              "retweets_count            0\n",
              "likes_count               0\n",
              "hashtags             559373\n",
              "cashtags             761230\n",
              "link                      0\n",
              "retweet                   0\n",
              "quote_url                 0\n",
              "video                     0\n",
              "thumbnail                 0\n",
              "near                      0\n",
              "geo                       0\n",
              "source                    0\n",
              "user_rt_id                0\n",
              "user_rt                   0\n",
              "retweet_id                0\n",
              "reply_to             762377\n",
              "retweet_date              0\n",
              "translate                 0\n",
              "trans_src                 0\n",
              "trans_dest                0\n",
              "place.type           760602\n",
              "place.coordinates    760602\n",
              "dtype: int64"
            ]
          },
          "execution_count": 7,
          "metadata": {},
          "output_type": "execute_result"
        }
      ]
    },
    {
      "cell_type": "code",
      "metadata": {
        "colab": {
          "base_uri": "https://localhost:8080/",
          "height": 973
        },
        "id": "K02WhDZTpGA1",
        "outputId": "89fc4a03-8f99-44fe-c4e9-d93f4bae7e3d"
      },
      "source": [
        "df.head(10)"
      ],
      "execution_count": null,
      "outputs": [
        {
          "data": {
            "text/html": [
              "<div>\n",
              "<style scoped>\n",
              "    .dataframe tbody tr th:only-of-type {\n",
              "        vertical-align: middle;\n",
              "    }\n",
              "\n",
              "    .dataframe tbody tr th {\n",
              "        vertical-align: top;\n",
              "    }\n",
              "\n",
              "    .dataframe thead th {\n",
              "        text-align: right;\n",
              "    }\n",
              "</style>\n",
              "<table border=\"1\" class=\"dataframe\">\n",
              "  <thead>\n",
              "    <tr style=\"text-align: right;\">\n",
              "      <th></th>\n",
              "      <th>id</th>\n",
              "      <th>conversation_id</th>\n",
              "      <th>created_at</th>\n",
              "      <th>date</th>\n",
              "      <th>time</th>\n",
              "      <th>timezone</th>\n",
              "      <th>user_id</th>\n",
              "      <th>username</th>\n",
              "      <th>name</th>\n",
              "      <th>place</th>\n",
              "      <th>tweet</th>\n",
              "      <th>language</th>\n",
              "      <th>mentions</th>\n",
              "      <th>urls</th>\n",
              "      <th>photos</th>\n",
              "      <th>replies_count</th>\n",
              "      <th>retweets_count</th>\n",
              "      <th>likes_count</th>\n",
              "      <th>hashtags</th>\n",
              "      <th>cashtags</th>\n",
              "      <th>link</th>\n",
              "      <th>retweet</th>\n",
              "      <th>quote_url</th>\n",
              "      <th>video</th>\n",
              "      <th>thumbnail</th>\n",
              "      <th>near</th>\n",
              "      <th>geo</th>\n",
              "      <th>source</th>\n",
              "      <th>user_rt_id</th>\n",
              "      <th>user_rt</th>\n",
              "      <th>retweet_id</th>\n",
              "      <th>reply_to</th>\n",
              "      <th>retweet_date</th>\n",
              "      <th>translate</th>\n",
              "      <th>trans_src</th>\n",
              "      <th>trans_dest</th>\n",
              "      <th>place.type</th>\n",
              "      <th>place.coordinates</th>\n",
              "    </tr>\n",
              "  </thead>\n",
              "  <tbody>\n",
              "    <tr>\n",
              "      <th>0</th>\n",
              "      <td>1344433081437073410</td>\n",
              "      <td>1344433081437073408</td>\n",
              "      <td>2020-12-30 23:59:59+00:00</td>\n",
              "      <td>2020-12-30</td>\n",
              "      <td>23:59:59</td>\n",
              "      <td>0</td>\n",
              "      <td>22149727</td>\n",
              "      <td>heartnews</td>\n",
              "      <td>American Heart News</td>\n",
              "      <td></td>\n",
              "      <td>Do you know your stroke risk? Some factors are...</td>\n",
              "      <td>en</td>\n",
              "      <td>None</td>\n",
              "      <td>[http://spr.ly/6010HTNTr]</td>\n",
              "      <td>None</td>\n",
              "      <td>0</td>\n",
              "      <td>2</td>\n",
              "      <td>3</td>\n",
              "      <td>[diet, strokerisk]</td>\n",
              "      <td>None</td>\n",
              "      <td>https://twitter.com/HeartNews/status/134443308...</td>\n",
              "      <td>False</td>\n",
              "      <td></td>\n",
              "      <td>0</td>\n",
              "      <td></td>\n",
              "      <td></td>\n",
              "      <td></td>\n",
              "      <td></td>\n",
              "      <td></td>\n",
              "      <td></td>\n",
              "      <td></td>\n",
              "      <td>NaN</td>\n",
              "      <td></td>\n",
              "      <td></td>\n",
              "      <td></td>\n",
              "      <td></td>\n",
              "      <td>None</td>\n",
              "      <td>None</td>\n",
              "    </tr>\n",
              "    <tr>\n",
              "      <th>1</th>\n",
              "      <td>1344433081374167048</td>\n",
              "      <td>1344433081374167040</td>\n",
              "      <td>2020-12-30 23:59:59+00:00</td>\n",
              "      <td>2020-12-30</td>\n",
              "      <td>23:59:59</td>\n",
              "      <td>0</td>\n",
              "      <td>840236394865930240</td>\n",
              "      <td>whnsc45</td>\n",
              "      <td>NSC 45 Archived</td>\n",
              "      <td></td>\n",
              "      <td>The United States strongly condemns today’s at...</td>\n",
              "      <td>en</td>\n",
              "      <td>None</td>\n",
              "      <td>None</td>\n",
              "      <td>None</td>\n",
              "      <td>3</td>\n",
              "      <td>37</td>\n",
              "      <td>90</td>\n",
              "      <td>None</td>\n",
              "      <td>None</td>\n",
              "      <td>https://twitter.com/WHNSC45/status/13444330813...</td>\n",
              "      <td>False</td>\n",
              "      <td>https://twitter.com/USEmbassyYemen/status/1344...</td>\n",
              "      <td>0</td>\n",
              "      <td></td>\n",
              "      <td></td>\n",
              "      <td></td>\n",
              "      <td></td>\n",
              "      <td></td>\n",
              "      <td></td>\n",
              "      <td></td>\n",
              "      <td>NaN</td>\n",
              "      <td></td>\n",
              "      <td></td>\n",
              "      <td></td>\n",
              "      <td></td>\n",
              "      <td>None</td>\n",
              "      <td>None</td>\n",
              "    </tr>\n",
              "    <tr>\n",
              "      <th>2</th>\n",
              "      <td>1344433081286057984</td>\n",
              "      <td>1344433081286057984</td>\n",
              "      <td>2020-12-30 23:59:59+00:00</td>\n",
              "      <td>2020-12-30</td>\n",
              "      <td>23:59:59</td>\n",
              "      <td>0</td>\n",
              "      <td>310485559</td>\n",
              "      <td>carrie_byington</td>\n",
              "      <td>Carrie Byington, MD, FAAP, FIDSA😷</td>\n",
              "      <td></td>\n",
              "      <td>And now in California. 😷up and follow #public ...</td>\n",
              "      <td>en</td>\n",
              "      <td>None</td>\n",
              "      <td>None</td>\n",
              "      <td>None</td>\n",
              "      <td>0</td>\n",
              "      <td>1</td>\n",
              "      <td>2</td>\n",
              "      <td>[public]</td>\n",
              "      <td>None</td>\n",
              "      <td>https://twitter.com/carrie_byington/status/134...</td>\n",
              "      <td>False</td>\n",
              "      <td>https://twitter.com/CDCgov/status/134443238983...</td>\n",
              "      <td>0</td>\n",
              "      <td></td>\n",
              "      <td></td>\n",
              "      <td></td>\n",
              "      <td></td>\n",
              "      <td></td>\n",
              "      <td></td>\n",
              "      <td></td>\n",
              "      <td>NaN</td>\n",
              "      <td></td>\n",
              "      <td></td>\n",
              "      <td></td>\n",
              "      <td></td>\n",
              "      <td>None</td>\n",
              "      <td>None</td>\n",
              "    </tr>\n",
              "    <tr>\n",
              "      <th>3</th>\n",
              "      <td>1344433081097314304</td>\n",
              "      <td>1344433081097314304</td>\n",
              "      <td>2020-12-30 23:59:59+00:00</td>\n",
              "      <td>2020-12-30</td>\n",
              "      <td>23:59:59</td>\n",
              "      <td>0</td>\n",
              "      <td>119829799</td>\n",
              "      <td>cbssunday</td>\n",
              "      <td>CBS Sunday Morning 🌞</td>\n",
              "      <td></td>\n",
              "      <td>CONFETTI TEST 🌞  🎉  Confetti was flying in New...</td>\n",
              "      <td>en</td>\n",
              "      <td>None</td>\n",
              "      <td>None</td>\n",
              "      <td>None</td>\n",
              "      <td>3</td>\n",
              "      <td>5</td>\n",
              "      <td>26</td>\n",
              "      <td>None</td>\n",
              "      <td>None</td>\n",
              "      <td>https://twitter.com/CBSSunday/status/134443308...</td>\n",
              "      <td>False</td>\n",
              "      <td></td>\n",
              "      <td>1</td>\n",
              "      <td>https://pbs.twimg.com/media/EqhiwhoXUAUvX6a.jpg</td>\n",
              "      <td></td>\n",
              "      <td></td>\n",
              "      <td></td>\n",
              "      <td></td>\n",
              "      <td></td>\n",
              "      <td></td>\n",
              "      <td>NaN</td>\n",
              "      <td></td>\n",
              "      <td></td>\n",
              "      <td></td>\n",
              "      <td></td>\n",
              "      <td>None</td>\n",
              "      <td>None</td>\n",
              "    </tr>\n",
              "    <tr>\n",
              "      <th>4</th>\n",
              "      <td>1344433080480759808</td>\n",
              "      <td>1344433080480759808</td>\n",
              "      <td>2020-12-30 23:59:59+00:00</td>\n",
              "      <td>2020-12-30</td>\n",
              "      <td>23:59:59</td>\n",
              "      <td>0</td>\n",
              "      <td>18785182</td>\n",
              "      <td>jeffgspurszone</td>\n",
              "      <td>JeffGSpursKENS5</td>\n",
              "      <td></td>\n",
              "      <td>Popovich said following the back to back, Aldr...</td>\n",
              "      <td>en</td>\n",
              "      <td>None</td>\n",
              "      <td>None</td>\n",
              "      <td>None</td>\n",
              "      <td>1</td>\n",
              "      <td>3</td>\n",
              "      <td>22</td>\n",
              "      <td>[gospursgo, nba]</td>\n",
              "      <td>None</td>\n",
              "      <td>https://twitter.com/JeffGSpursZone/status/1344...</td>\n",
              "      <td>False</td>\n",
              "      <td></td>\n",
              "      <td>0</td>\n",
              "      <td></td>\n",
              "      <td></td>\n",
              "      <td></td>\n",
              "      <td></td>\n",
              "      <td></td>\n",
              "      <td></td>\n",
              "      <td></td>\n",
              "      <td>NaN</td>\n",
              "      <td></td>\n",
              "      <td></td>\n",
              "      <td></td>\n",
              "      <td></td>\n",
              "      <td>None</td>\n",
              "      <td>None</td>\n",
              "    </tr>\n",
              "    <tr>\n",
              "      <th>5</th>\n",
              "      <td>1344433077674766336</td>\n",
              "      <td>1344433077674766336</td>\n",
              "      <td>2020-12-30 23:59:58+00:00</td>\n",
              "      <td>2020-12-30</td>\n",
              "      <td>23:59:58</td>\n",
              "      <td>0</td>\n",
              "      <td>2319425220</td>\n",
              "      <td>jonscotttv</td>\n",
              "      <td>Jon Scott</td>\n",
              "      <td></td>\n",
              "      <td>#Bills news galore on our plate for tonight's ...</td>\n",
              "      <td>en</td>\n",
              "      <td>[{'screen_name': 'kevc_sports', 'name': 'kevin...</td>\n",
              "      <td>[https://fb.watch/2IPr3q_H5B/]</td>\n",
              "      <td>None</td>\n",
              "      <td>0</td>\n",
              "      <td>3</td>\n",
              "      <td>2</td>\n",
              "      <td>[bills]</td>\n",
              "      <td>None</td>\n",
              "      <td>https://twitter.com/JonScottTV/status/13444330...</td>\n",
              "      <td>False</td>\n",
              "      <td></td>\n",
              "      <td>0</td>\n",
              "      <td></td>\n",
              "      <td></td>\n",
              "      <td></td>\n",
              "      <td></td>\n",
              "      <td></td>\n",
              "      <td></td>\n",
              "      <td></td>\n",
              "      <td>NaN</td>\n",
              "      <td></td>\n",
              "      <td></td>\n",
              "      <td></td>\n",
              "      <td></td>\n",
              "      <td>None</td>\n",
              "      <td>None</td>\n",
              "    </tr>\n",
              "    <tr>\n",
              "      <th>6</th>\n",
              "      <td>1344433077523771393</td>\n",
              "      <td>1344433077523771392</td>\n",
              "      <td>2020-12-30 23:59:58+00:00</td>\n",
              "      <td>2020-12-30</td>\n",
              "      <td>23:59:58</td>\n",
              "      <td>0</td>\n",
              "      <td>45052430</td>\n",
              "      <td>ronmarz</td>\n",
              "      <td>Ron Marz</td>\n",
              "      <td></td>\n",
              "      <td>\"Justice League Endless Winter #2, takes all o...</td>\n",
              "      <td>en</td>\n",
              "      <td>[{'screen_name': 'drunkwooky', 'name': 'drunkw...</td>\n",
              "      <td>[https://drunkwooky.com/2020/12/30/drunkwooky-...</td>\n",
              "      <td>None</td>\n",
              "      <td>1</td>\n",
              "      <td>0</td>\n",
              "      <td>9</td>\n",
              "      <td>None</td>\n",
              "      <td>None</td>\n",
              "      <td>https://twitter.com/ronmarz/status/13444330775...</td>\n",
              "      <td>False</td>\n",
              "      <td></td>\n",
              "      <td>0</td>\n",
              "      <td></td>\n",
              "      <td></td>\n",
              "      <td></td>\n",
              "      <td></td>\n",
              "      <td></td>\n",
              "      <td></td>\n",
              "      <td></td>\n",
              "      <td>NaN</td>\n",
              "      <td></td>\n",
              "      <td></td>\n",
              "      <td></td>\n",
              "      <td></td>\n",
              "      <td>None</td>\n",
              "      <td>None</td>\n",
              "    </tr>\n",
              "    <tr>\n",
              "      <th>7</th>\n",
              "      <td>1344433077066420226</td>\n",
              "      <td>1344433077066420224</td>\n",
              "      <td>2020-12-30 23:59:58+00:00</td>\n",
              "      <td>2020-12-30</td>\n",
              "      <td>23:59:58</td>\n",
              "      <td>0</td>\n",
              "      <td>392352644</td>\n",
              "      <td>manikadadson</td>\n",
              "      <td>Manika Champ</td>\n",
              "      <td></td>\n",
              "      <td>Tasmania's young athletes back home to compete...</td>\n",
              "      <td>en</td>\n",
              "      <td>None</td>\n",
              "      <td>[https://www.abc.net.au/news/2020-12-31/tasman...</td>\n",
              "      <td>None</td>\n",
              "      <td>0</td>\n",
              "      <td>2</td>\n",
              "      <td>8</td>\n",
              "      <td>None</td>\n",
              "      <td>None</td>\n",
              "      <td>https://twitter.com/ManikaDadson/status/134443...</td>\n",
              "      <td>False</td>\n",
              "      <td></td>\n",
              "      <td>0</td>\n",
              "      <td></td>\n",
              "      <td></td>\n",
              "      <td></td>\n",
              "      <td></td>\n",
              "      <td></td>\n",
              "      <td></td>\n",
              "      <td></td>\n",
              "      <td>NaN</td>\n",
              "      <td></td>\n",
              "      <td></td>\n",
              "      <td></td>\n",
              "      <td></td>\n",
              "      <td>None</td>\n",
              "      <td>None</td>\n",
              "    </tr>\n",
              "    <tr>\n",
              "      <th>8</th>\n",
              "      <td>1344433076089233409</td>\n",
              "      <td>1344433076089233408</td>\n",
              "      <td>2020-12-30 23:59:58+00:00</td>\n",
              "      <td>2020-12-30</td>\n",
              "      <td>23:59:58</td>\n",
              "      <td>0</td>\n",
              "      <td>15053754</td>\n",
              "      <td>otepofficial</td>\n",
              "      <td>👑 OTEP  SHAMAYA 👑</td>\n",
              "      <td></td>\n",
              "      <td>Goddamn you to hell #TraitorTrump</td>\n",
              "      <td>en</td>\n",
              "      <td>None</td>\n",
              "      <td>None</td>\n",
              "      <td>None</td>\n",
              "      <td>3</td>\n",
              "      <td>16</td>\n",
              "      <td>46</td>\n",
              "      <td>[traitortrump]</td>\n",
              "      <td>None</td>\n",
              "      <td>https://twitter.com/otepofficial/status/134443...</td>\n",
              "      <td>False</td>\n",
              "      <td>https://twitter.com/cnnbrk/status/134443166229...</td>\n",
              "      <td>0</td>\n",
              "      <td></td>\n",
              "      <td></td>\n",
              "      <td></td>\n",
              "      <td></td>\n",
              "      <td></td>\n",
              "      <td></td>\n",
              "      <td></td>\n",
              "      <td>NaN</td>\n",
              "      <td></td>\n",
              "      <td></td>\n",
              "      <td></td>\n",
              "      <td></td>\n",
              "      <td>None</td>\n",
              "      <td>None</td>\n",
              "    </tr>\n",
              "    <tr>\n",
              "      <th>9</th>\n",
              "      <td>1344433074331918336</td>\n",
              "      <td>1344433074331918336</td>\n",
              "      <td>2020-12-30 23:59:57+00:00</td>\n",
              "      <td>2020-12-30</td>\n",
              "      <td>23:59:57</td>\n",
              "      <td>0</td>\n",
              "      <td>20530716</td>\n",
              "      <td>joshmohrer</td>\n",
              "      <td>Josh Mohrer</td>\n",
              "      <td></td>\n",
              "      <td>Why is vaccine distribution in New York going ...</td>\n",
              "      <td>en</td>\n",
              "      <td>[{'screen_name': 'nycmayorsoffice', 'name': 'n...</td>\n",
              "      <td>None</td>\n",
              "      <td>None</td>\n",
              "      <td>3</td>\n",
              "      <td>1</td>\n",
              "      <td>19</td>\n",
              "      <td>None</td>\n",
              "      <td>None</td>\n",
              "      <td>https://twitter.com/joshmohrer/status/13444330...</td>\n",
              "      <td>False</td>\n",
              "      <td></td>\n",
              "      <td>0</td>\n",
              "      <td></td>\n",
              "      <td></td>\n",
              "      <td></td>\n",
              "      <td></td>\n",
              "      <td></td>\n",
              "      <td></td>\n",
              "      <td></td>\n",
              "      <td>NaN</td>\n",
              "      <td></td>\n",
              "      <td></td>\n",
              "      <td></td>\n",
              "      <td></td>\n",
              "      <td>None</td>\n",
              "      <td>None</td>\n",
              "    </tr>\n",
              "  </tbody>\n",
              "</table>\n",
              "</div>"
            ],
            "text/plain": [
              "                    id      conversation_id  ... place.type place.coordinates\n",
              "0  1344433081437073410  1344433081437073408  ...       None              None\n",
              "1  1344433081374167048  1344433081374167040  ...       None              None\n",
              "2  1344433081286057984  1344433081286057984  ...       None              None\n",
              "3  1344433081097314304  1344433081097314304  ...       None              None\n",
              "4  1344433080480759808  1344433080480759808  ...       None              None\n",
              "5  1344433077674766336  1344433077674766336  ...       None              None\n",
              "6  1344433077523771393  1344433077523771392  ...       None              None\n",
              "7  1344433077066420226  1344433077066420224  ...       None              None\n",
              "8  1344433076089233409  1344433076089233408  ...       None              None\n",
              "9  1344433074331918336  1344433074331918336  ...       None              None\n",
              "\n",
              "[10 rows x 38 columns]"
            ]
          },
          "execution_count": 11,
          "metadata": {},
          "output_type": "execute_result"
        }
      ]
    },
    {
      "cell_type": "code",
      "metadata": {
        "id": "194s9EQpMPSe"
      },
      "source": [
        "df = df.drop(columns =['geo', 'source','user_rt_id','user_rt','retweet_id','retweet_date','translate','trans_src','trans_dest','place','near'], axis = 1)"
      ],
      "execution_count": null,
      "outputs": []
    },
    {
      "cell_type": "code",
      "metadata": {
        "colab": {
          "base_uri": "https://localhost:8080/"
        },
        "id": "5fCQFmhuMPYt",
        "outputId": "ab749f10-aae6-483f-819c-3e24f7c33290"
      },
      "source": [
        "df.shape"
      ],
      "execution_count": null,
      "outputs": [
        {
          "data": {
            "text/plain": [
              "(762377, 27)"
            ]
          },
          "execution_count": 6,
          "metadata": {},
          "output_type": "execute_result"
        }
      ]
    },
    {
      "cell_type": "code",
      "metadata": {
        "colab": {
          "base_uri": "https://localhost:8080/"
        },
        "id": "DzR9ChfIMPb1",
        "outputId": "d662f8c5-546c-4442-e17c-9b2b053b9c73"
      },
      "source": [
        "df['timezone'].unique()"
      ],
      "execution_count": null,
      "outputs": [
        {
          "data": {
            "text/plain": [
              "array([0])"
            ]
          },
          "execution_count": 7,
          "metadata": {},
          "output_type": "execute_result"
        }
      ]
    },
    {
      "cell_type": "code",
      "metadata": {
        "colab": {
          "base_uri": "https://localhost:8080/"
        },
        "id": "Cx0AB6eQR86Q",
        "outputId": "ee080d9c-b174-4132-89ef-7679d3da18c4"
      },
      "source": [
        "df['retweet'].unique()"
      ],
      "execution_count": null,
      "outputs": [
        {
          "data": {
            "text/plain": [
              "array([False])"
            ]
          },
          "execution_count": 8,
          "metadata": {},
          "output_type": "execute_result"
        }
      ]
    },
    {
      "cell_type": "code",
      "metadata": {
        "id": "vT_x01l9SKTg"
      },
      "source": [
        "df = df.drop(columns = ['timezone','retweet'], axis = 1)"
      ],
      "execution_count": null,
      "outputs": []
    },
    {
      "cell_type": "code",
      "metadata": {
        "id": "nKTVZ0jwSic6"
      },
      "source": [
        "import seaborn as sns"
      ],
      "execution_count": null,
      "outputs": []
    },
    {
      "cell_type": "markdown",
      "metadata": {
        "id": "uCulBxIMkIUp"
      },
      "source": [
        "Select n numbers of rows randomly using  sample(n=n). Each time you run this, you get n different rows"
      ]
    },
    {
      "cell_type": "code",
      "metadata": {
        "id": "sPJ1kW4KfGJw"
      },
      "source": [
        "import matplotlib.pyplot as plt"
      ],
      "execution_count": null,
      "outputs": []
    },
    {
      "cell_type": "code",
      "metadata": {
        "id": "dAsLhPrGSikF"
      },
      "source": [
        "dsub = df.sample(n = 100000)"
      ],
      "execution_count": null,
      "outputs": []
    },
    {
      "cell_type": "code",
      "metadata": {
        "id": "28jtsgCknFhT"
      },
      "source": [
        "dsub.to_csv('/content/drive/MyDrive/Data/dsub.csv', index=False)"
      ],
      "execution_count": null,
      "outputs": []
    },
    {
      "cell_type": "code",
      "metadata": {
        "colab": {
          "base_uri": "https://localhost:8080/",
          "height": 782
        },
        "id": "T1Zu5PZEHyI1",
        "outputId": "6f5b317f-8af9-4c5a-c25e-73aa2b5121f2"
      },
      "source": [
        "dsub = pd.read_csv( '/content/drive/MyDrive/Data/dsub.csv')\n",
        "dsub.head(10)"
      ],
      "execution_count": null,
      "outputs": [
        {
          "output_type": "stream",
          "name": "stderr",
          "text": [
            "/usr/local/lib/python3.7/dist-packages/IPython/core/interactiveshell.py:2718: DtypeWarning: Columns (0,1,13) have mixed types.Specify dtype option on import or set low_memory=False.\n",
            "  interactivity=interactivity, compiler=compiler, result=result)\n"
          ]
        },
        {
          "output_type": "execute_result",
          "data": {
            "text/html": [
              "<div>\n",
              "<style scoped>\n",
              "    .dataframe tbody tr th:only-of-type {\n",
              "        vertical-align: middle;\n",
              "    }\n",
              "\n",
              "    .dataframe tbody tr th {\n",
              "        vertical-align: top;\n",
              "    }\n",
              "\n",
              "    .dataframe thead th {\n",
              "        text-align: right;\n",
              "    }\n",
              "</style>\n",
              "<table border=\"1\" class=\"dataframe\">\n",
              "  <thead>\n",
              "    <tr style=\"text-align: right;\">\n",
              "      <th></th>\n",
              "      <th>id</th>\n",
              "      <th>conversation_id</th>\n",
              "      <th>created_at</th>\n",
              "      <th>date</th>\n",
              "      <th>time</th>\n",
              "      <th>user_id</th>\n",
              "      <th>username</th>\n",
              "      <th>name</th>\n",
              "      <th>tweet</th>\n",
              "      <th>language</th>\n",
              "      <th>mentions</th>\n",
              "      <th>urls</th>\n",
              "      <th>photos</th>\n",
              "      <th>replies_count</th>\n",
              "      <th>retweets_count</th>\n",
              "      <th>likes_count</th>\n",
              "      <th>hashtags</th>\n",
              "      <th>cashtags</th>\n",
              "      <th>link</th>\n",
              "      <th>quote_url</th>\n",
              "      <th>video</th>\n",
              "      <th>thumbnail</th>\n",
              "      <th>reply_to</th>\n",
              "      <th>place.type</th>\n",
              "      <th>place.coordinates</th>\n",
              "    </tr>\n",
              "  </thead>\n",
              "  <tbody>\n",
              "    <tr>\n",
              "      <th>0</th>\n",
              "      <td>1344031106241335298</td>\n",
              "      <td>1344031106241335296</td>\n",
              "      <td>2020-12-29 21:22:41+00:00</td>\n",
              "      <td>2020-12-29</td>\n",
              "      <td>21:22:41</td>\n",
              "      <td>21221543.0</td>\n",
              "      <td>juliabainbridge</td>\n",
              "      <td>Julia Bainbridge</td>\n",
              "      <td>Thread! Epic, @maggiejhoffman 🥂</td>\n",
              "      <td>en</td>\n",
              "      <td>[{'screen_name': 'maggiejhoffman', 'name': 'ma...</td>\n",
              "      <td>NaN</td>\n",
              "      <td>NaN</td>\n",
              "      <td>1</td>\n",
              "      <td>0.0</td>\n",
              "      <td>2.0</td>\n",
              "      <td>NaN</td>\n",
              "      <td>NaN</td>\n",
              "      <td>https://twitter.com/juliabainbridge/status/134...</td>\n",
              "      <td>https://twitter.com/maggiejhoffman/status/1344...</td>\n",
              "      <td>0.0</td>\n",
              "      <td>NaN</td>\n",
              "      <td>NaN</td>\n",
              "      <td>NaN</td>\n",
              "      <td>NaN</td>\n",
              "    </tr>\n",
              "    <tr>\n",
              "      <th>1</th>\n",
              "      <td>1343640000508866567</td>\n",
              "      <td>1343640000508866560</td>\n",
              "      <td>2020-12-28 19:28:34+00:00</td>\n",
              "      <td>2020-12-28</td>\n",
              "      <td>19:28:34</td>\n",
              "      <td>356824820.0</td>\n",
              "      <td>cmanderson247</td>\n",
              "      <td>Chris Anderson</td>\n",
              "      <td>Big 12 has 4 of the top 9 teams in the AP Top ...</td>\n",
              "      <td>en</td>\n",
              "      <td>NaN</td>\n",
              "      <td>NaN</td>\n",
              "      <td>['https://pbs.twimg.com/tweet_video_thumb/EqWR...</td>\n",
              "      <td>8</td>\n",
              "      <td>53.0</td>\n",
              "      <td>372.0</td>\n",
              "      <td>NaN</td>\n",
              "      <td>NaN</td>\n",
              "      <td>https://twitter.com/CMAnderson247/status/13436...</td>\n",
              "      <td>NaN</td>\n",
              "      <td>1.0</td>\n",
              "      <td>https://pbs.twimg.com/tweet_video_thumb/EqWRa0...</td>\n",
              "      <td>NaN</td>\n",
              "      <td>NaN</td>\n",
              "      <td>NaN</td>\n",
              "    </tr>\n",
              "    <tr>\n",
              "      <th>2</th>\n",
              "      <td>1344311348705034242</td>\n",
              "      <td>1344311348705034240</td>\n",
              "      <td>2020-12-30 15:56:16+00:00</td>\n",
              "      <td>2020-12-30</td>\n",
              "      <td>15:56:16</td>\n",
              "      <td>10089542.0</td>\n",
              "      <td>danklyn</td>\n",
              "      <td>dan klyn</td>\n",
              "      <td>Let the record show who ought not (but, of cou...</td>\n",
              "      <td>en</td>\n",
              "      <td>NaN</td>\n",
              "      <td>NaN</td>\n",
              "      <td>NaN</td>\n",
              "      <td>1</td>\n",
              "      <td>0.0</td>\n",
              "      <td>0.0</td>\n",
              "      <td>NaN</td>\n",
              "      <td>NaN</td>\n",
              "      <td>https://twitter.com/danklyn/status/13443113487...</td>\n",
              "      <td>https://twitter.com/mikedebonis/status/1344308...</td>\n",
              "      <td>0.0</td>\n",
              "      <td>NaN</td>\n",
              "      <td>NaN</td>\n",
              "      <td>NaN</td>\n",
              "      <td>NaN</td>\n",
              "    </tr>\n",
              "    <tr>\n",
              "      <th>3</th>\n",
              "      <td>1344040755086716928</td>\n",
              "      <td>1344040755086716928</td>\n",
              "      <td>2020-12-29 22:01:01+00:00</td>\n",
              "      <td>2020-12-29</td>\n",
              "      <td>22:01:01</td>\n",
              "      <td>20987430.0</td>\n",
              "      <td>occ_shoeboxes</td>\n",
              "      <td>Operation Christmas Child</td>\n",
              "      <td>Marika and Mike Chasse along with a group of f...</td>\n",
              "      <td>en</td>\n",
              "      <td>[{'screen_name': 'ajc', 'name': 'atlanta journ...</td>\n",
              "      <td>['http://sampur.se/3o0J7Fb']</td>\n",
              "      <td>NaN</td>\n",
              "      <td>1</td>\n",
              "      <td>2.0</td>\n",
              "      <td>20.0</td>\n",
              "      <td>['operationchristmaschild']</td>\n",
              "      <td>NaN</td>\n",
              "      <td>https://twitter.com/OCC_shoeboxes/status/13440...</td>\n",
              "      <td>NaN</td>\n",
              "      <td>0.0</td>\n",
              "      <td>NaN</td>\n",
              "      <td>NaN</td>\n",
              "      <td>NaN</td>\n",
              "      <td>NaN</td>\n",
              "    </tr>\n",
              "    <tr>\n",
              "      <th>4</th>\n",
              "      <td>1343890291967864834</td>\n",
              "      <td>1343890291967864832</td>\n",
              "      <td>2020-12-29 12:03:08+00:00</td>\n",
              "      <td>2020-12-29</td>\n",
              "      <td>12:03:08</td>\n",
              "      <td>252751061.0</td>\n",
              "      <td>quicktake</td>\n",
              "      <td>Bloomberg Quicktake</td>\n",
              "      <td>▪️How did this happen?  ▪️Who was affected? ▪️...</td>\n",
              "      <td>en</td>\n",
              "      <td>NaN</td>\n",
              "      <td>['https://trib.al/mDoxVOF']</td>\n",
              "      <td>['https://pbs.twimg.com/media/EqZ1GVBWMAIvsbw....</td>\n",
              "      <td>2</td>\n",
              "      <td>6.0</td>\n",
              "      <td>30.0</td>\n",
              "      <td>NaN</td>\n",
              "      <td>NaN</td>\n",
              "      <td>https://twitter.com/Quicktake/status/134389029...</td>\n",
              "      <td>NaN</td>\n",
              "      <td>1.0</td>\n",
              "      <td>https://pbs.twimg.com/media/EqZ1GVBWMAIvsbw.jpg</td>\n",
              "      <td>NaN</td>\n",
              "      <td>NaN</td>\n",
              "      <td>NaN</td>\n",
              "    </tr>\n",
              "    <tr>\n",
              "      <th>5</th>\n",
              "      <td>1344328072628211714</td>\n",
              "      <td>1344328072628211712</td>\n",
              "      <td>2020-12-30 17:02:43+00:00</td>\n",
              "      <td>2020-12-30</td>\n",
              "      <td>17:02:43</td>\n",
              "      <td>24486762.0</td>\n",
              "      <td>warheads</td>\n",
              "      <td>WARHEADS®</td>\n",
              "      <td>Cause it won’t cover much else amiright?  http...</td>\n",
              "      <td>en</td>\n",
              "      <td>NaN</td>\n",
              "      <td>NaN</td>\n",
              "      <td>['https://pbs.twimg.com/media/EqgC5GXXYAEFBxS....</td>\n",
              "      <td>2</td>\n",
              "      <td>1.0</td>\n",
              "      <td>20.0</td>\n",
              "      <td>NaN</td>\n",
              "      <td>NaN</td>\n",
              "      <td>https://twitter.com/WARHEADS/status/1344328072...</td>\n",
              "      <td>NaN</td>\n",
              "      <td>1.0</td>\n",
              "      <td>https://pbs.twimg.com/media/EqgC5GXXYAEFBxS.jpg</td>\n",
              "      <td>NaN</td>\n",
              "      <td>NaN</td>\n",
              "      <td>NaN</td>\n",
              "    </tr>\n",
              "    <tr>\n",
              "      <th>6</th>\n",
              "      <td>1344407828551917569</td>\n",
              "      <td>1344407828551917568</td>\n",
              "      <td>2020-12-30 22:19:38+00:00</td>\n",
              "      <td>2020-12-30</td>\n",
              "      <td>22:19:38</td>\n",
              "      <td>14762429.0</td>\n",
              "      <td>sbz</td>\n",
              "      <td>sara zucker</td>\n",
              "      <td>Judaism teaching consent + a woman’s right to ...</td>\n",
              "      <td>en</td>\n",
              "      <td>NaN</td>\n",
              "      <td>NaN</td>\n",
              "      <td>['https://pbs.twimg.com/media/EqhLyrYW4AEOnNa....</td>\n",
              "      <td>1</td>\n",
              "      <td>0.0</td>\n",
              "      <td>9.0</td>\n",
              "      <td>NaN</td>\n",
              "      <td>NaN</td>\n",
              "      <td>https://twitter.com/sbz/status/134440782855191...</td>\n",
              "      <td>NaN</td>\n",
              "      <td>1.0</td>\n",
              "      <td>https://pbs.twimg.com/media/EqhLyrYW4AEOnNa.jpg</td>\n",
              "      <td>NaN</td>\n",
              "      <td>NaN</td>\n",
              "      <td>NaN</td>\n",
              "    </tr>\n",
              "    <tr>\n",
              "      <th>7</th>\n",
              "      <td>1343687061199613952</td>\n",
              "      <td>1343687061199613952</td>\n",
              "      <td>2020-12-28 22:35:34+00:00</td>\n",
              "      <td>2020-12-28</td>\n",
              "      <td>22:35:34</td>\n",
              "      <td>22129280.0</td>\n",
              "      <td>jimsciutto</td>\n",
              "      <td>Jim Sciutto</td>\n",
              "      <td>In midst worsening pandemic &amp;amp; Nashville su...</td>\n",
              "      <td>en</td>\n",
              "      <td>NaN</td>\n",
              "      <td>['https://www.cnn.com/2020/12/28/politics/bide...</td>\n",
              "      <td>NaN</td>\n",
              "      <td>31</td>\n",
              "      <td>108.0</td>\n",
              "      <td>368.0</td>\n",
              "      <td>NaN</td>\n",
              "      <td>NaN</td>\n",
              "      <td>https://twitter.com/jimsciutto/status/13436870...</td>\n",
              "      <td>NaN</td>\n",
              "      <td>0.0</td>\n",
              "      <td>NaN</td>\n",
              "      <td>NaN</td>\n",
              "      <td>NaN</td>\n",
              "      <td>NaN</td>\n",
              "    </tr>\n",
              "    <tr>\n",
              "      <th>8</th>\n",
              "      <td>1343699514310471681</td>\n",
              "      <td>1343699514310471680</td>\n",
              "      <td>2020-12-28 23:25:03+00:00</td>\n",
              "      <td>2020-12-28</td>\n",
              "      <td>23:25:03</td>\n",
              "      <td>796435297.0</td>\n",
              "      <td>hits93toronto</td>\n",
              "      <td>Hits 93 Toronto</td>\n",
              "      <td>Now Playing: A Billion Heartbeats by Mystery J...</td>\n",
              "      <td>en</td>\n",
              "      <td>NaN</td>\n",
              "      <td>['https://www.radioking.com/radio/hits-93-toro...</td>\n",
              "      <td>NaN</td>\n",
              "      <td>3</td>\n",
              "      <td>0.0</td>\n",
              "      <td>2.0</td>\n",
              "      <td>NaN</td>\n",
              "      <td>NaN</td>\n",
              "      <td>https://twitter.com/Hits93Toronto/status/13436...</td>\n",
              "      <td>NaN</td>\n",
              "      <td>0.0</td>\n",
              "      <td>NaN</td>\n",
              "      <td>NaN</td>\n",
              "      <td>NaN</td>\n",
              "      <td>NaN</td>\n",
              "    </tr>\n",
              "    <tr>\n",
              "      <th>9</th>\n",
              "      <td>1344395534329667584</td>\n",
              "      <td>1344395534329667584</td>\n",
              "      <td>2020-12-30 21:30:47+00:00</td>\n",
              "      <td>2020-12-30</td>\n",
              "      <td>21:30:47</td>\n",
              "      <td>618657450.0</td>\n",
              "      <td>alexalecciwesh</td>\n",
              "      <td>Alex Alecci</td>\n",
              "      <td>Looking like a fantastic evening ahead!  https...</td>\n",
              "      <td>en</td>\n",
              "      <td>NaN</td>\n",
              "      <td>NaN</td>\n",
              "      <td>['https://pbs.twimg.com/media/EqhAmehXcAAnltH....</td>\n",
              "      <td>0</td>\n",
              "      <td>0.0</td>\n",
              "      <td>2.0</td>\n",
              "      <td>NaN</td>\n",
              "      <td>NaN</td>\n",
              "      <td>https://twitter.com/AlexAlecciWESH/status/1344...</td>\n",
              "      <td>NaN</td>\n",
              "      <td>1.0</td>\n",
              "      <td>https://pbs.twimg.com/media/EqhAmehXcAAnltH.jpg</td>\n",
              "      <td>NaN</td>\n",
              "      <td>NaN</td>\n",
              "      <td>NaN</td>\n",
              "    </tr>\n",
              "  </tbody>\n",
              "</table>\n",
              "</div>"
            ],
            "text/plain": [
              "                    id      conversation_id  ... place.type place.coordinates\n",
              "0  1344031106241335298  1344031106241335296  ...        NaN               NaN\n",
              "1  1343640000508866567  1343640000508866560  ...        NaN               NaN\n",
              "2  1344311348705034242  1344311348705034240  ...        NaN               NaN\n",
              "3  1344040755086716928  1344040755086716928  ...        NaN               NaN\n",
              "4  1343890291967864834  1343890291967864832  ...        NaN               NaN\n",
              "5  1344328072628211714  1344328072628211712  ...        NaN               NaN\n",
              "6  1344407828551917569  1344407828551917568  ...        NaN               NaN\n",
              "7  1343687061199613952  1343687061199613952  ...        NaN               NaN\n",
              "8  1343699514310471681  1343699514310471680  ...        NaN               NaN\n",
              "9  1344395534329667584  1344395534329667584  ...        NaN               NaN\n",
              "\n",
              "[10 rows x 25 columns]"
            ]
          },
          "metadata": {},
          "execution_count": 3
        }
      ]
    },
    {
      "cell_type": "code",
      "metadata": {
        "id": "RSeNzBzPIRp6"
      },
      "source": [
        "dsub = dsub[['retweets_count','likes_count','replies_count']]"
      ],
      "execution_count": null,
      "outputs": []
    },
    {
      "cell_type": "code",
      "metadata": {
        "colab": {
          "base_uri": "https://localhost:8080/"
        },
        "id": "K-MZUyzIIR0N",
        "outputId": "a3105167-b1f2-494d-dd54-99b9bdc3a44f"
      },
      "source": [
        "dsub.index[dsub['replies_count'] == 'https://pbs.twimg.com/media/EqXq38sVEAAsnAk.jpg'].tolist()"
      ],
      "execution_count": null,
      "outputs": [
        {
          "output_type": "execute_result",
          "data": {
            "text/plain": [
              "[60187]"
            ]
          },
          "metadata": {},
          "execution_count": 5
        }
      ]
    },
    {
      "cell_type": "code",
      "metadata": {
        "colab": {
          "base_uri": "https://localhost:8080/"
        },
        "id": "i9IykQ1BIR22",
        "outputId": "1cd83229-6450-4767-835c-718c8c71c094"
      },
      "source": [
        "dsub.loc[60187]"
      ],
      "execution_count": null,
      "outputs": [
        {
          "output_type": "execute_result",
          "data": {
            "text/plain": [
              "retweets_count                                                NaN\n",
              "likes_count                                                   NaN\n",
              "replies_count     https://pbs.twimg.com/media/EqXq38sVEAAsnAk.jpg\n",
              "Name: 60187, dtype: object"
            ]
          },
          "metadata": {},
          "execution_count": 6
        }
      ]
    },
    {
      "cell_type": "code",
      "metadata": {
        "id": "3mXFDezPIR7r"
      },
      "source": [
        "dnum = dsub.drop(index=60187)"
      ],
      "execution_count": null,
      "outputs": []
    },
    {
      "cell_type": "code",
      "metadata": {
        "id": "QdcHWC5ZIR-H"
      },
      "source": [
        "dnum = dnum.astype({'replies_count': 'float64'})"
      ],
      "execution_count": null,
      "outputs": []
    },
    {
      "cell_type": "code",
      "metadata": {
        "id": "_ARb7ojxozbz"
      },
      "source": [
        "import seaborn as sns\n",
        "import matplotlib.pyplot as plt"
      ],
      "execution_count": null,
      "outputs": []
    },
    {
      "cell_type": "code",
      "metadata": {
        "id": "TZP0iaS_Irku",
        "colab": {
          "base_uri": "https://localhost:8080/",
          "height": 564
        },
        "outputId": "b3b006af-76d9-490f-dbf0-bab05277574b"
      },
      "source": [
        "g = sns.PairGrid(dnum)\n",
        "g.map(plt.scatter )"
      ],
      "execution_count": null,
      "outputs": [
        {
          "output_type": "execute_result",
          "data": {
            "text/plain": [
              "<seaborn.axisgrid.PairGrid at 0x7f8c157d1910>"
            ]
          },
          "metadata": {},
          "execution_count": 11
        },
        {
          "output_type": "display_data",
          "data": {
            "image/png": "[encoded data removed]",
            "text/plain": [
              "<Figure size 540x540 with 9 Axes>"
            ]
          },
          "metadata": {
            "needs_background": "light"
          }
        }
      ]
    },
    {
      "cell_type": "code",
      "metadata": {
        "colab": {
          "base_uri": "https://localhost:8080/",
          "height": 355
        },
        "id": "JM9Csc0kkjie",
        "outputId": "dfed0ccc-2689-47ca-dd20-7281b079e4e3"
      },
      "source": [
        "sns.distplot(dnum['likes_count'])"
      ],
      "execution_count": null,
      "outputs": [
        {
          "output_type": "stream",
          "name": "stderr",
          "text": [
            "/usr/local/lib/python3.7/dist-packages/seaborn/distributions.py:2619: FutureWarning: `distplot` is a deprecated function and will be removed in a future version. Please adapt your code to use either `displot` (a figure-level function with similar flexibility) or `histplot` (an axes-level function for histograms).\n",
            "  warnings.warn(msg, FutureWarning)\n"
          ]
        },
        {
          "output_type": "execute_result",
          "data": {
            "text/plain": [
              "<matplotlib.axes._subplots.AxesSubplot at 0x7f8c0d3ee390>"
            ]
          },
          "metadata": {},
          "execution_count": 12
        },
        {
          "output_type": "display_data",
          "data": {
            "image/png": "[encoded data removed]",
            "text/plain": [
              "<Figure size 432x288 with 1 Axes>"
            ]
          },
          "metadata": {
            "needs_background": "light"
          }
        }
      ]
    },
    {
      "cell_type": "code",
      "metadata": {
        "colab": {
          "base_uri": "https://localhost:8080/",
          "height": 353
        },
        "id": "xzttubYWqS6i",
        "outputId": "3efaed6a-3f38-48d5-dc35-dfc79c19abbf"
      },
      "source": [
        "df2 = dnum.loc[((dnum['likes_count'] >= 0) & (dnum['likes_count'] < 100))]\n",
        "sns.distplot(df2['likes_count'])"
      ],
      "execution_count": null,
      "outputs": [
        {
          "output_type": "stream",
          "name": "stderr",
          "text": [
            "/usr/local/lib/python3.7/dist-packages/seaborn/distributions.py:2619: FutureWarning: `distplot` is a deprecated function and will be removed in a future version. Please adapt your code to use either `displot` (a figure-level function with similar flexibility) or `histplot` (an axes-level function for histograms).\n",
            "  warnings.warn(msg, FutureWarning)\n"
          ]
        },
        {
          "output_type": "execute_result",
          "data": {
            "text/plain": [
              "<matplotlib.axes._subplots.AxesSubplot at 0x7f8c0970fd10>"
            ]
          },
          "metadata": {},
          "execution_count": 19
        },
        {
          "output_type": "display_data",
          "data": {
            "image/png": "[encoded data removed]",
            "text/plain": [
              "<Figure size 432x288 with 1 Axes>"
            ]
          },
          "metadata": {
            "needs_background": "light"
          }
        }
      ]
    },
    {
      "cell_type": "code",
      "metadata": {
        "id": "ezY8T_mhJAjE",
        "colab": {
          "base_uri": "https://localhost:8080/",
          "height": 353
        },
        "outputId": "4a056a7f-5857-454a-980e-0e4fe9553008"
      },
      "source": [
        "sns.distplot(dnum['replies_count'])"
      ],
      "execution_count": null,
      "outputs": [
        {
          "output_type": "stream",
          "name": "stderr",
          "text": [
            "/usr/local/lib/python3.7/dist-packages/seaborn/distributions.py:2619: FutureWarning: `distplot` is a deprecated function and will be removed in a future version. Please adapt your code to use either `displot` (a figure-level function with similar flexibility) or `histplot` (an axes-level function for histograms).\n",
            "  warnings.warn(msg, FutureWarning)\n"
          ]
        },
        {
          "output_type": "execute_result",
          "data": {
            "text/plain": [
              "<matplotlib.axes._subplots.AxesSubplot at 0x7f8c09b60410>"
            ]
          },
          "metadata": {},
          "execution_count": 13
        },
        {
          "output_type": "display_data",
          "data": {
            "image/png": "[encoded data removed]",
            "text/plain": [
              "<Figure size 432x288 with 1 Axes>"
            ]
          },
          "metadata": {
            "needs_background": "light"
          }
        }
      ]
    },
    {
      "cell_type": "code",
      "metadata": {
        "id": "dv-vCYgkJAx3",
        "colab": {
          "base_uri": "https://localhost:8080/",
          "height": 353
        },
        "outputId": "359298dd-66e0-4ee9-8663-5dee4959854e"
      },
      "source": [
        "sns.distplot(dnum['retweets_count'])"
      ],
      "execution_count": null,
      "outputs": [
        {
          "output_type": "stream",
          "name": "stderr",
          "text": [
            "/usr/local/lib/python3.7/dist-packages/seaborn/distributions.py:2619: FutureWarning: `distplot` is a deprecated function and will be removed in a future version. Please adapt your code to use either `displot` (a figure-level function with similar flexibility) or `histplot` (an axes-level function for histograms).\n",
            "  warnings.warn(msg, FutureWarning)\n"
          ]
        },
        {
          "output_type": "execute_result",
          "data": {
            "text/plain": [
              "<matplotlib.axes._subplots.AxesSubplot at 0x7f8c09b0c790>"
            ]
          },
          "metadata": {},
          "execution_count": 14
        },
        {
          "output_type": "display_data",
          "data": {
            "image/png": "[encoded data removed]",
            "text/plain": [
              "<Figure size 432x288 with 1 Axes>"
            ]
          },
          "metadata": {
            "needs_background": "light"
          }
        }
      ]
    },
    {
      "cell_type": "code",
      "metadata": {
        "colab": {
          "base_uri": "https://localhost:8080/",
          "height": 397
        },
        "id": "v_zXb8esqfL8",
        "outputId": "d3f4da43-09d0-4f1e-834b-ec2e90650467"
      },
      "source": [
        "\n",
        "plt.figure(figsize=(16, 6))\n",
        "heatmap = sns.heatmap(dnum.corr(), vmin=-1, vmax=1, annot=True)\n",
        "heatmap.set_title('Correlation Heatmap', fontdict={'fontsize':12}, pad=12);"
      ],
      "execution_count": null,
      "outputs": [
        {
          "output_type": "display_data",
          "data": {
            "image/png": "[encoded data removed]",
            "text/plain": [
              "<Figure size 1152x432 with 2 Axes>"
            ]
          },
          "metadata": {
            "needs_background": "light"
          }
        }
      ]
    },
    {
      "cell_type": "code",
      "metadata": {
        "id": "FLIVo23WIrsw",
        "colab": {
          "base_uri": "https://localhost:8080/",
          "height": 298
        },
        "outputId": "21e8eb13-bad4-4874-e30a-73393193eaf1"
      },
      "source": [
        "sns.boxplot(x=dnum[\"replies_count\"])"
      ],
      "execution_count": null,
      "outputs": [
        {
          "output_type": "execute_result",
          "data": {
            "text/plain": [
              "<matplotlib.axes._subplots.AxesSubplot at 0x7f8c0986db10>"
            ]
          },
          "metadata": {},
          "execution_count": 16
        },
        {
          "output_type": "display_data",
          "data": {
            "image/png": "[encoded data removed]",
            "text/plain": [
              "<Figure size 432x288 with 1 Axes>"
            ]
          },
          "metadata": {
            "needs_background": "light"
          }
        }
      ]
    },
    {
      "cell_type": "code",
      "metadata": {
        "id": "29iyS9GcIruQ",
        "colab": {
          "base_uri": "https://localhost:8080/",
          "height": 298
        },
        "outputId": "b69c408f-5bfa-4401-cdee-51c9a9db5b44"
      },
      "source": [
        "sns.boxplot(x=dnum[\"retweets_count\"])"
      ],
      "execution_count": null,
      "outputs": [
        {
          "output_type": "execute_result",
          "data": {
            "text/plain": [
              "<matplotlib.axes._subplots.AxesSubplot at 0x7f8c0996a990>"
            ]
          },
          "metadata": {},
          "execution_count": 17
        },
        {
          "output_type": "display_data",
          "data": {
            "image/png": "[encoded data removed]",
            "text/plain": [
              "<Figure size 432x288 with 1 Axes>"
            ]
          },
          "metadata": {
            "needs_background": "light"
          }
        }
      ]
    },
    {
      "cell_type": "code",
      "metadata": {
        "colab": {
          "base_uri": "https://localhost:8080/",
          "height": 298
        },
        "id": "EYsZPB98lIYw",
        "outputId": "6f36bfca-97f6-4197-dfc5-1cabee508f28"
      },
      "source": [
        "sns.boxplot(x=dnum[\"likes_count\"])"
      ],
      "execution_count": null,
      "outputs": [
        {
          "output_type": "execute_result",
          "data": {
            "text/plain": [
              "<matplotlib.axes._subplots.AxesSubplot at 0x7f8c097f4e90>"
            ]
          },
          "metadata": {},
          "execution_count": 18
        },
        {
          "output_type": "display_data",
          "data": {
            "image/png": "[encoded data removed]",
            "text/plain": [
              "<Figure size 432x288 with 1 Axes>"
            ]
          },
          "metadata": {
            "needs_background": "light"
          }
        }
      ]
    },
    {
      "cell_type": "markdown",
      "metadata": {
        "id": "EBrWhcOwJVvI"
      },
      "source": [
        "Drop outliers"
      ]
    },
    {
      "cell_type": "code",
      "metadata": {
        "id": "32T9S-4XJA28"
      },
      "source": [
        "dnum.drop(dnum[dnum['likes_count'] > 100000].index, inplace = True)"
      ],
      "execution_count": null,
      "outputs": []
    },
    {
      "cell_type": "code",
      "metadata": {
        "id": "ZvkZeCp-JS8q"
      },
      "source": [
        "dnum.drop(dnum[dnum['replies_count'] > 10000].index, inplace = True)"
      ],
      "execution_count": null,
      "outputs": []
    },
    {
      "cell_type": "code",
      "metadata": {
        "id": "YBZHrzpMJTAC"
      },
      "source": [
        "dnum.drop(dnum[dnum['retweets_count'] > 10000].index, inplace = True)"
      ],
      "execution_count": null,
      "outputs": []
    },
    {
      "cell_type": "code",
      "metadata": {
        "id": "_FAL8yhiJTDr",
        "colab": {
          "base_uri": "https://localhost:8080/",
          "height": 353
        },
        "outputId": "9a6dfcfe-c3f5-4312-bc04-60402aaa6bf8"
      },
      "source": [
        "sns.boxplot(dnum['likes_count'])"
      ],
      "execution_count": null,
      "outputs": [
        {
          "output_type": "stream",
          "name": "stderr",
          "text": [
            "/usr/local/lib/python3.7/dist-packages/seaborn/_decorators.py:43: FutureWarning: Pass the following variable as a keyword arg: x. From version 0.12, the only valid positional argument will be `data`, and passing other arguments without an explicit keyword will result in an error or misinterpretation.\n",
            "  FutureWarning\n"
          ]
        },
        {
          "output_type": "execute_result",
          "data": {
            "text/plain": [
              "<matplotlib.axes._subplots.AxesSubplot at 0x7f8c09701310>"
            ]
          },
          "metadata": {},
          "execution_count": 24
        },
        {
          "output_type": "display_data",
          "data": {
            "image/png": "[encoded data removed]",
            "text/plain": [
              "<Figure size 432x288 with 1 Axes>"
            ]
          },
          "metadata": {
            "needs_background": "light"
          }
        }
      ]
    },
    {
      "cell_type": "code",
      "metadata": {
        "id": "VUeFcr8jJTHn",
        "colab": {
          "base_uri": "https://localhost:8080/",
          "height": 353
        },
        "outputId": "3c314091-46b5-4240-fe01-363abc7ad676"
      },
      "source": [
        "sns.boxplot(dnum['replies_count'])"
      ],
      "execution_count": null,
      "outputs": [
        {
          "output_type": "stream",
          "name": "stderr",
          "text": [
            "/usr/local/lib/python3.7/dist-packages/seaborn/_decorators.py:43: FutureWarning: Pass the following variable as a keyword arg: x. From version 0.12, the only valid positional argument will be `data`, and passing other arguments without an explicit keyword will result in an error or misinterpretation.\n",
            "  FutureWarning\n"
          ]
        },
        {
          "output_type": "execute_result",
          "data": {
            "text/plain": [
              "<matplotlib.axes._subplots.AxesSubplot at 0x7f8c095366d0>"
            ]
          },
          "metadata": {},
          "execution_count": 25
        },
        {
          "output_type": "display_data",
          "data": {
            "image/png": "[encoded data removed]",
            "text/plain": [
              "<Figure size 432x288 with 1 Axes>"
            ]
          },
          "metadata": {
            "needs_background": "light"
          }
        }
      ]
    },
    {
      "cell_type": "code",
      "metadata": {
        "id": "UZSIeZ6vJTLz",
        "colab": {
          "base_uri": "https://localhost:8080/",
          "height": 353
        },
        "outputId": "409ece0f-3291-4fd3-c95a-055c0cabe300"
      },
      "source": [
        "sns.boxplot(dnum['retweets_count'])"
      ],
      "execution_count": null,
      "outputs": [
        {
          "output_type": "stream",
          "name": "stderr",
          "text": [
            "/usr/local/lib/python3.7/dist-packages/seaborn/_decorators.py:43: FutureWarning: Pass the following variable as a keyword arg: x. From version 0.12, the only valid positional argument will be `data`, and passing other arguments without an explicit keyword will result in an error or misinterpretation.\n",
            "  FutureWarning\n"
          ]
        },
        {
          "output_type": "execute_result",
          "data": {
            "text/plain": [
              "<matplotlib.axes._subplots.AxesSubplot at 0x7f8c09495450>"
            ]
          },
          "metadata": {},
          "execution_count": 26
        },
        {
          "output_type": "display_data",
          "data": {
            "image/png": "[encoded data removed]",
            "text/plain": [
              "<Figure size 432x288 with 1 Axes>"
            ]
          },
          "metadata": {
            "needs_background": "light"
          }
        }
      ]
    },
    {
      "cell_type": "code",
      "metadata": {
        "id": "kH24R0Y6JTP8",
        "colab": {
          "base_uri": "https://localhost:8080/",
          "height": 568
        },
        "outputId": "4d9536d5-8577-4557-f4f7-f68cc4b58b18"
      },
      "source": [
        "g = sns.PairGrid(dnum)\n",
        "g.map(plt.scatter)"
      ],
      "execution_count": null,
      "outputs": [
        {
          "output_type": "execute_result",
          "data": {
            "text/plain": [
              "<seaborn.axisgrid.PairGrid at 0x7f8c0940bbd0>"
            ]
          },
          "metadata": {},
          "execution_count": 27
        },
        {
          "output_type": "display_data",
          "data": {
            "image/png": "[encoded data removed]",
            "text/plain": [
              "<Figure size 540x540 with 9 Axes>"
            ]
          },
          "metadata": {
            "needs_background": "light"
          }
        }
      ]
    },
    {
      "cell_type": "code",
      "metadata": {
        "colab": {
          "base_uri": "https://localhost:8080/",
          "height": 397
        },
        "id": "5Nr9stb1q-_1",
        "outputId": "b3996b30-2400-484e-b447-7e47eecb3280"
      },
      "source": [
        "\n",
        "plt.figure(figsize=(16, 6))\n",
        "heatmap = sns.heatmap(dnum.corr(), vmin=-1, vmax=1, annot=True)\n",
        "heatmap.set_title('Correlation Heatmap', fontdict={'fontsize':12}, pad=12);"
      ],
      "execution_count": null,
      "outputs": [
        {
          "output_type": "display_data",
          "data": {
            "image/png": "[encoded data removed]",
            "text/plain": [
              "<Figure size 1152x432 with 2 Axes>"
            ]
          },
          "metadata": {
            "needs_background": "light"
          }
        }
      ]
    },
    {
      "cell_type": "code",
      "metadata": {
        "id": "yTj0a9HDq_Ct"
      },
      "source": [
        ""
      ],
      "execution_count": null,
      "outputs": []
    }
  ]
}