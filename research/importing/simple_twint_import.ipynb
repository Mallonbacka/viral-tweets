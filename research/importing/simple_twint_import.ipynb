{
 "cells": [
  {
   "cell_type": "markdown",
   "id": "b690cb4c-fd52-4453-8fea-600f309101df",
   "metadata": {},
   "source": [
    "Let's import the library. Note: this version works possibly because I installed the package by cloning their GitHub repo."
   ]
  },
  {
   "cell_type": "code",
   "execution_count": 1,
   "id": "562c9781-4689-4d94-b9e0-cefe89963c96",
   "metadata": {},
   "outputs": [],
   "source": [
    "import twint"
   ]
  },
  {
   "cell_type": "markdown",
   "id": "a00d672d-87bb-4482-8c4d-804fbf3702eb",
   "metadata": {},
   "source": [
    "A [GitHub issue said this might help](https://github.com/twintproject/twint/issues/1242#issuecomment-875186039):"
   ]
  },
  {
   "cell_type": "code",
   "execution_count": 2,
   "id": "7c20370c-aa33-4059-98d9-ab259d3ea465",
   "metadata": {},
   "outputs": [],
   "source": [
    "import nest_asyncio\n",
    "nest_asyncio.apply()"
   ]
  },
  {
   "cell_type": "markdown",
   "id": "6785c166-86e9-4a00-8a5a-15a40321309a",
   "metadata": {},
   "source": [
    "You must specify something as empty search does not work. Here we demonstrate how to pull tweets from accounts in a Twitter List and store them in a csv."
   ]
  },
  {
   "cell_type": "code",
   "execution_count": 3,
   "id": "64b0cc6f-2b3a-447e-98b6-03c16b39a862",
   "metadata": {},
   "outputs": [
    {
     "name": "stdout",
     "output_type": "stream",
     "text": [
      "[+] Finished: Successfully collected 20 Tweets.\n"
     ]
    }
   ],
   "source": [
    "c = twint.Config()\n",
    "c.Limit = 10  # doesn't seem to work properly\n",
    "c.Members_list = \"953543671843975168\" # https://twitter.com/i/lists/953543671843975168\n",
    "c.Search = \"-filter:replies\"  # exclude replies\n",
    "c.Filter_retweets = True  # exclude retweets\n",
    "c.Show_hashtags = True  # Not sure what this does but it seems useless\n",
    "c.Stats = True  # show reply, like, retweet counts\n",
    "c.Count = True  # prints how many tweets have been pulled\n",
    "c.Store_csv = True\n",
    "c.Hide_output = True  # don't print results, default is False\n",
    "c.Output = \"./\" + \"tech_tweets.csv\"\n",
    "twint.run.Search(c)"
   ]
  },
  {
   "cell_type": "markdown",
   "id": "c87742fa-2cb4-48a7-9a03-3cd07962d6a4",
   "metadata": {},
   "source": [
    "Next, we try pulling tweets from @discord and store them in a Pandas dataframe. Note: results may differ if you run this cell multiple times."
   ]
  },
  {
   "cell_type": "code",
   "execution_count": 7,
   "id": "18305326-d26b-4169-8a66-b2354cd59c2d",
   "metadata": {},
   "outputs": [
    {
     "name": "stdout",
     "output_type": "stream",
     "text": [
      "1432403469424496644 2021-08-30 21:02:54 +0300 <discord>  https://t.co/bozJfwirzb  | 1556 replies 2896 retweets 33792 likes\n",
      "1431318366065733646 2021-08-27 21:11:05 +0300 <discord> sorry i had to mute you  | 6178 replies 6650 retweets 118504 likes\n",
      "1430248591361146882 2021-08-24 22:20:11 +0300 <discord> sometimes you jump into a server to hang out and sometimes you jump in to learn why the mitochondria is the powerhouse of the cell.   read how these 8 servers are making education a lot more accessible:  https://t.co/ooijUPICNj  https://t.co/uJ4gugvJHG  | 285 replies 216 retweets 4985 likes\n",
      "1429868546599780353 2021-08-23 21:10:01 +0300 <discord> hack week is coming up at Discord HQ... what are some cool and experimental features that you'd like for us to build? pls don't say discoin.  | 7588 replies 776 retweets 43133 likes\n",
      "1428412260045627392 2021-08-19 20:43:16 +0300 <discord> what do y'all think about my lunch  https://t.co/1hGwbc8FVF  | 4348 replies 2336 retweets 59482 likes\n",
      "1427327571310546944 2021-08-16 20:53:06 +0300 <discord> when making your server always make a separate voice chat for people who fall asleep on call &lt;3  | 1417 replies 2355 retweets 47824 likes\n",
      "1426589483906994177 2021-08-14 20:00:12 +0300 <discord> 17 yeard a go we addd mssage editig to discor d  | 3131 replies 3823 retweets 99999 likes\n",
      "1425883810336477184 2021-08-12 21:16:06 +0300 <discord> stop hating on light mode  https://t.co/asZBds8LPF  | 6792 replies 3531 retweets 73319 likes\n",
      "1425522733287297024 2021-08-11 21:21:19 +0300 <discord> *cue beat boxing*  you all have been using stage channels in v interesting ways. here's what we've seen so far   *cue more beatboxing*  https://t.co/SZBJI9xPT3  | 234 replies 276 retweets 4667 likes\n",
      "1424800197079552029 2021-08-09 21:30:13 +0300 <discord> Discord Nitro x Youtube Premium   Nitro subscribers can enjoy 3 months of Youtube Premium on us. Head to your Gift Inventory on Desktop to claim them before October 30th.  https://t.co/UIgiJjhdhj  | 1737 replies 2164 retweets 21187 likes\n",
      "1424430324860309508 2021-08-08 21:00:28 +0300 <discord> for international cat day we want to shout out every single cat to ever roam this earth. today is your day.  https://t.co/YPsRaIgsnd  | 969 replies 1971 retweets 26181 likes\n",
      "1423379763427647490 2021-08-05 23:25:55 +0300 <discord> Hate and racism have no place at Discord. That's why we're continuing to invest in the people, tools, and technology we need to be inclusive of all the communities we serve. Our work on this is never done.   Learn more on the blog:  https://t.co/8zaTHLdlQH  https://t.co/B42QGEPeYI  | 637 replies 530 retweets 8131 likes\n",
      "1422678751364661253 2021-08-04 01:00:21 +0300 <discord> nobody knows ur a frog... until now custom profiles are now out on mobile (ios &amp; android)! set yours up to tell everyone who you really are inside.  https://t.co/t8Z2NRNDKd  | 777 replies 371 retweets 6367 likes\n",
      "1422267203223638017 2021-08-02 21:45:00 +0300 <discord> im wumpus AMA  | 2607 replies 483 retweets 27228 likes\n",
      "1420444282473885701 2021-07-28 21:01:22 +0300 <discord> who started the rumor that 5 years ago today we launched direct calling and the ability to create group dms? cause it's true. happy birthday  | 871 replies 1366 retweets 39456 likes\n",
      "1420037403452919815 2021-07-27 18:04:34 +0300 <discord> a lot of you have been asking for a threads feature to help declutter your chats since the dawn of time, so here it is (out on all devices).   learn how threads came to be on the blog:  https://t.co/lS2QEzTx1g  https://t.co/ZhMO7xqEmG  | 861 replies 1245 retweets 11661 likes\n",
      "1419721721519689733 2021-07-26 21:10:10 +0300 <discord>  https://t.co/EbkxHNSVc0  | 1430 replies 1868 retweets 45140 likes\n",
      "1418617539404308482 2021-07-23 20:02:32 +0300 <discord> Discord - The Movie (2021)  https://t.co/LLakR1w1tE  | 822 replies 2850 retweets 21399 likes\n",
      "1417579067998707712 2021-07-20 23:16:01 +0300 <discord> hi i noticed you didn’t respond to my DM did you need some help crafting a response  | 4043 replies 2053 retweets 55789 likes\n",
      "1415732432746074112 2021-07-15 20:58:09 +0300 <discord> we're @ pax online this year, and we brought merch!! the theme is rocks. space rocks!  grab them here for a limited time (no pax tix required):  https://t.co/IP9TDyC3tA  https://t.co/UIHEfwT2mI  | 347 replies 328 retweets 4828 likes\n",
      "1415413314121834496 2021-07-14 23:50:05 +0300 <discord> a bot that tells you if the vibes of your server is off  | 819 replies 1512 retweets 41821 likes\n",
      "1413558706046910472 2021-07-09 21:00:32 +0300 <discord> 40 years ago, mario appeared for the first time in the game donkey kong! they were fighting, but everything's cool now. they golf  https://t.co/L79zwBWBOP  | 327 replies 1146 retweets 17255 likes\n",
      "1413195133353218050 2021-07-08 20:55:50 +0300 <discord> today is apparently video game day so we found a ps5, xbox series x, switch lite, and a broken gamecube to give away  like + comment for a chance to win   legal words here:  https://t.co/EwfHYUr7HS #sweepstakes  https://t.co/GzWKCibIMo sweepstakes | 100427 replies 31741 retweets 154763 likes\n",
      "1412411334789152773 2021-07-06 17:01:18 +0300 <discord> wow happy 5 years to the game that made us all pokemon go outside  https://t.co/nZKv2UUyOK  | 528 replies 1379 retweets 34574 likes\n",
      "1410667189040934915 2021-07-01 21:30:41 +0300 <discord> thank u for supporting @GLSEN this Pride month!   you gave $70k in Pride pin donations + $50k from discord = $120k in total donations  so many LGBTQIA+ students face a safer, kinder world because of your support. we're so proud of our discord community (๑•̀ㅂ•́)و  https://t.co/FsdLXyBOot  | 254 replies 251 retweets 4162 likes\n",
      "1410305700358594563 2021-06-30 21:34:15 +0300 <discord> **Stickers Update**  All boosted servers can soon upload custom stickers for their community to express themselves even louder.  Not only can nitro subs use custom stickers anywhere, but also get 300 Discord-crafted ones!  https://t.co/iLBgWJFF6D  | 620 replies 656 retweets 8156 likes\n",
      "1409968791258165249 2021-06-29 23:15:30 +0300 <discord> kicking everyone out of my server so i can be alone  | 3293 replies 5944 retweets 98119 likes\n",
      "1408489320952958976 2021-06-25 21:16:37 +0300 <discord> so what's everyone putting on this new about me section  https://t.co/2rx3V6JH9T  | 2358 replies 960 retweets 30717 likes\n",
      "1407766627572064259 2021-06-23 21:24:53 +0300 <discord> happy 30th bday to our blurry blue boy sonic… we luv u  https://t.co/BWNIve15vs  | 513 replies 3353 retweets 36370 likes\n",
      "1406658412755226626 2021-06-20 20:01:14 +0300 <discord> for those eager dads giving the whole server the play-by-play...hope you're winning today.   happy father’s day  https://t.co/WhFxI0K675  | 269 replies 210 retweets 6978 likes\n",
      "1405979713525272576 2021-06-18 23:04:20 +0300 <discord> we've added a new slider to the accessibility tab on desktop! this allows you to customize the color saturation levels that is best fit for you.   special thanks to our community members who provided helpful feedback to make discord more accessible to all (´∀｀)♡  https://t.co/ju3FLD8CsH  | 790 replies 1106 retweets 16202 likes\n",
      "1405234195019010050 2021-06-16 21:41:54 +0300 <discord> does anyone want this copy of Discord  https://t.co/z9n3Oj6HK3  | 4200 replies 3244 retweets 83089 likes\n",
      "1404493018200162306 2021-06-14 20:36:44 +0300 <discord> we're celebrating pride in some big ways.. big like 20x60 foot wall big..  pride pins via tiltify:  https://t.co/Hjpk8pyndE add pronoun bot to your server:   https://t.co/kgc2jslcTO  https://t.co/RmAX0HRETn  | 507 replies 658 retweets 7943 likes\n",
      "1403427243200856064 2021-06-11 22:01:43 +0300 <discord> new perks for nitro subscribers:  + messages length DOUBLED (from 2000 -&gt; 4000 characters) + server join limit DOUBLED (from 100 -&gt; 200 servers)  every server is precious, hopefully this makes it easier to join more of em  https://t.co/yaMYeEyMdn  | 1826 replies 1776 retweets 22826 likes\n",
      "1403079690030653444 2021-06-10 23:00:40 +0300 <discord> top most useful bots for your server GO  | 7616 replies 647 retweets 43146 likes\n",
      "1401962160599748610 2021-06-07 21:00:00 +0300 <discord> whats the game where u go to Luigi's Mansion?  | 4781 replies 1405 retweets 46294 likes\n",
      "1401229880981921796 2021-06-05 20:30:11 +0300 <discord> all we ask for is one open world frogger game  happy 40th birthday lil dude  https://t.co/luoDJGRACd  | 280 replies 699 retweets 14186 likes\n",
      "1400184533299777538 2021-06-02 23:16:21 +0300 <discord> For Pride this year, join us in supporting @GLSEN: an org keeping LGBTQIA+ students safe from harm.  🏳️‍🌈 donate $25+ for a random pin + sticker blind box 🏳️‍🌈 donate $100+ for all 4 pins sets w/ exclusive golden enamel tint  accepting donations through 6/30:  https://t.co/Hjpk8pgLP4  https://t.co/bxBxkjptT7  | 415 replies 676 retweets 7180 likes\n",
      "1399818030582886400 2021-06-01 23:00:00 +0300 <discord> rollin out stage discovery! browse public audio events and hop into the audience. want to see what goes on in that one server? catch an open mic night? finally learn what macrame is? u r free to explore with 0 pressure  learn how to set up + run ur Stage:  https://t.co/psWS1RnJ56  https://t.co/GqxPomfZ3t  | 374 replies 191 retweets 3950 likes\n",
      "1398332295279484936 2021-05-28 20:36:13 +0300 <discord> thank u rod for the card, we think you're very poggers too &lt;3  https://t.co/SFufGcE51g  | 620 replies 1048 retweets 37520 likes\n",
      "1397614611403321346 2021-05-26 21:04:24 +0300 <discord> to a discord enthusiast there is no pleasure greater than hot keying mute  | 1096 replies 916 retweets 36578 likes\n",
      "1396896318614818823 2021-05-24 21:30:10 +0300 <discord> we're in the dictionary.. think we've officially made it  https://t.co/yj5MNUvDV6  | 1119 replies 1343 retweets 44835 likes\n",
      "1395794166555185164 2021-05-21 20:30:36 +0300 <discord> in my server you get banned for not saying bye before hopping off voice  | 2677 replies 4681 retweets 91204 likes\n",
      "1395432166553751554 2021-05-20 20:32:09 +0300 <discord> for AAPI Heritage Month, we reached out to community and business leaders, musical artists and folks around the office to give them a chance to share their experiences and inspire other AAPI communities and allies.   read their stories:  https://t.co/ggsk2dL60i  https://t.co/Zkfv0qHk04  | 170 replies 163 retweets 2403 likes\n",
      "1394748438408007685 2021-05-18 23:15:15 +0300 <discord> text on screenshare too blurry? to give your eyes a break, we added a \"better text readability\" stream quality setting that makes text sharper and easier to read  https://t.co/8NvOJWz9qH  | 641 replies 623 retweets 16608 likes\n",
      "1392857573481586690 2021-05-13 18:01:38 +0300 <discord> hey  we're updating our brand look. improved logo, font, colors. not too different: just a little friendlier.   Discord has become a place where people come to explore, grow, and belong. so we're updating our look to be just as welcoming:  https://t.co/OedvENyboE  https://t.co/LyqCx9EyEH  | 21052 replies 4320 retweets 73408 likes\n",
      "1392842814149382144 2021-05-13 17:02:59 +0300 <discord> 🎉🎁🎉🎁🎉🎁 Today is our birthday!!! 🎉🎁🎉🎁🎉🎁🎉🎁  Snap on a party hat, we're gonna start opening presents in 1 hour:  https://t.co/qoJCv3YRhn  | 2131 replies 1856 retweets 31260 likes\n",
      "1392543848421896193 2021-05-12 21:15:00 +0300 <discord> we're gonna open up just so many presents on our birthday stream TOMORROW!  it starts at 7AM PDT and everyone’s invited:  https://t.co/qoJCv3HgpP  https://t.co/PbxrWPPr7A  | 465 replies 453 retweets 8931 likes\n",
      "1391802270577152002 2021-05-10 20:08:14 +0300 <discord> You’re invited to Discord's 6th birthday party stream this Thursday, May 13, at 7AM PDT! There’ll be lots of presents to go around, so get hype‼️‼️‼️‼️  RSVP here:  https://t.co/qoJCv3YRhn  https://t.co/8ZV03Eev6n  | 1077 replies 1232 retweets 14784 likes\n",
      "1391400092603723776 2021-05-09 17:30:07 +0300 <discord> Moms rule. Happy mother's day &lt;3  https://t.co/Bczcc2cGFL  | 405 replies 1655 retweets 33438 likes\n",
      "1390796082230136833 2021-05-08 01:30:00 +0300 <discord> WE'VE HIT 3⃣ MILLION FOLLOWERS THANK YOU EVERYONE FOR GETTING US HERE!!! !111!!!!!!!  ༼ ༎ຶ ෴ ༎ຶ༽ just in time for our birthday next week ..okay now we gotta figure how to actually send our precious mascot into space  https://t.co/nzGdLlHhYe  | 1434 replies 1180 retweets 33601 likes\n",
      "1390403494679617539 2021-05-06 23:30:00 +0300 <discord> at 3 million followers we're sending Wumpus into space  | 1892 replies 3363 retweets 80848 likes\n",
      "1389324067220586499 2021-05-04 00:00:44 +0300 <discord> pog  | 1689 replies 4320 retweets 64038 likes\n",
      "1389286721158844416 2021-05-03 21:32:20 +0300 <discord> our first tiktok... follow for more chaos to come:   https://t.co/HUnLsboz2m  https://t.co/GO7MKC2Q8C  | 495 replies 477 retweets 8672 likes\n",
      "1388916366804193285 2021-05-02 21:00:41 +0300 <discord> proud to announce that the audio now works on mac os screen share. sorry it took so long lol  | 1386 replies 1571 retweets 53072 likes\n",
      "1388187686796775426 2021-04-30 20:45:10 +0300 <discord> fyi, we gave accessibility options their own tab in user settings! if you want to change your reduced motion and text-to-speech preferences, that's your stop ~  https://t.co/yxu5hjFeAx  | 288 replies 382 retweets 8267 likes\n",
      "1387485554498064385 2021-04-28 22:15:09 +0300 <discord> if astrology is fake then WHY are there so many more people using discord than ever before??  | 882 replies 633 retweets 25338 likes\n",
      "1386367443078057985 2021-04-25 20:12:10 +0300 <discord> stop asking us to make a stories feature on discord that’s weird  | 5485 replies 24100 retweets 339820 likes\n",
      "1385293858024591362 2021-04-22 21:06:07 +0300 <discord> whether you’re the outdoors-hiking-type or the indoors-houseplant-type, there's a server out there that's a natural fit for you.  see how six discord communities are celebrating #earthday:  https://t.co/UvwoJRlRSY  https://t.co/o1vRinKBiV earthday | 205 replies 246 retweets 4769 likes\n",
      "1384930844121370626 2021-04-21 21:03:38 +0300 <discord> we hear ya, setting up a discord server can get kind of overwhelming for new folks. so we added a bunch of updates to the roles page, private channels, and onboarding to make it a smoother time.  https://t.co/MlFBBhz3rR  | 351 replies 466 retweets 9048 likes\n",
      "[!] No more data! Scraping will stop now.\n",
      "found 0 deleted tweets in this search.\n",
      "[+] Finished: Successfully collected 60 Tweets from @discord.\n"
     ]
    }
   ],
   "source": [
    "c = twint.Config()\n",
    "c.Search = \"-filter:replies\"\n",
    "c.Username = \"discord\"\n",
    "c.Pandas = True\n",
    "c.Stats = True\n",
    "c.Since = \"2021-01-01 00:00:00\"\n",
    "c.Until = \"2021-09-01 00:00:00\"\n",
    "c.Lang = \"en\"  # filters the language, but doens't seem to work properly\n",
    "c.Show_hashtags = True\n",
    "c.Count = True\n",
    "# c.Links = \"exclude\"  # excludes tweets with links, so tweets with images or videos won't be returned\n",
    "c.Filter_retweets = True\n",
    "twint.run.Search(c)"
   ]
  },
  {
   "cell_type": "code",
   "execution_count": 5,
   "id": "05b529e0-ad8a-4716-9c2e-5abd407bed65",
   "metadata": {},
   "outputs": [
    {
     "name": "stdout",
     "output_type": "stream",
     "text": [
      "<class 'pandas.core.frame.DataFrame'>\n",
      "Index: 0 entries\n",
      "Empty DataFrame"
     ]
    }
   ],
   "source": [
    "df = twint.storage.panda.Tweets_df\n",
    "df.info()"
   ]
  },
  {
   "cell_type": "code",
   "execution_count": 6,
   "id": "97475219-6d4e-4291-ab13-74d946b73f5c",
   "metadata": {},
   "outputs": [
    {
     "data": {
      "text/html": [
       "<div>\n",
       "<style scoped>\n",
       "    .dataframe tbody tr th:only-of-type {\n",
       "        vertical-align: middle;\n",
       "    }\n",
       "\n",
       "    .dataframe tbody tr th {\n",
       "        vertical-align: top;\n",
       "    }\n",
       "\n",
       "    .dataframe thead th {\n",
       "        text-align: right;\n",
       "    }\n",
       "</style>\n",
       "<table border=\"1\" class=\"dataframe\">\n",
       "  <thead>\n",
       "    <tr style=\"text-align: right;\">\n",
       "      <th></th>\n",
       "    </tr>\n",
       "  </thead>\n",
       "  <tbody>\n",
       "  </tbody>\n",
       "</table>\n",
       "</div>"
      ],
      "text/plain": [
       "Empty DataFrame\n",
       "Columns: []\n",
       "Index: []"
      ]
     },
     "execution_count": 6,
     "metadata": {},
     "output_type": "execute_result"
    }
   ],
   "source": [
    "df.head()"
   ]
  },
  {
   "cell_type": "code",
   "execution_count": null,
   "id": "ca0af887-fdcc-4829-aa46-3188b1c07d6d",
   "metadata": {},
   "outputs": [],
   "source": []
  }
 ],
 "metadata": {
  "kernelspec": {
   "display_name": "Python 3 (ipykernel)",
   "language": "python",
   "name": "python3"
  },
  "language_info": {
   "codemirror_mode": {
    "name": "ipython",
    "version": 3
   },
   "file_extension": ".py",
   "mimetype": "text/x-python",
   "name": "python",
   "nbconvert_exporter": "python",
   "pygments_lexer": "ipython3",
   "version": "3.8.11"
  }
 },
 "nbformat": 4,
 "nbformat_minor": 5
}
