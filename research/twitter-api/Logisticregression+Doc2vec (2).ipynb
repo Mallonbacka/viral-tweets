{
  "nbformat": 4,
  "nbformat_minor": 0,
  "metadata": {
    "colab": {
      "name": "Logisticregression+Doc2vec.ipynb",
      "provenance": []
    },
    "kernelspec": {
      "name": "python3",
      "display_name": "Python 3"
    },
    "language_info": {
      "name": "python"
    }
  },
  "cells": [
    {
      "cell_type": "code",
      "metadata": {
        "id": "M4cYRskA5m_f"
      },
      "source": [
        "import pandas as pd\n",
        "import numpy as np\n",
        "from tqdm import tqdm\n",
        "tqdm.pandas(desc=\"progress-bar\")\n",
        "from gensim.models import Doc2Vec\n",
        "from sklearn import utils\n",
        "from sklearn.model_selection import train_test_split\n",
        "import gensim\n",
        "from sklearn.linear_model import LogisticRegression\n",
        "from gensim.models.doc2vec import TaggedDocument\n",
        "import re\n",
        "import seaborn as sns\n",
        "import matplotlib.pyplot as plt"
      ],
      "execution_count": 1,
      "outputs": []
    },
    {
      "cell_type": "code",
      "metadata": {
        "colab": {
          "base_uri": "https://localhost:8080/"
        },
        "id": "d18HUW2D5tdO",
        "outputId": "33d7ac2a-fafd-43d1-d3a9-ce8a605fcfc7"
      },
      "source": [
        "from google.colab import drive\n",
        "drive.mount('/content/drive')"
      ],
      "execution_count": 2,
      "outputs": [
        {
          "output_type": "stream",
          "name": "stdout",
          "text": [
            "Mounted at /content/drive\n"
          ]
        }
      ]
    },
    {
      "cell_type": "code",
      "metadata": {
        "colab": {
          "base_uri": "https://localhost:8080/",
          "height": 1000
        },
        "id": "PcpE-Qen5tfc",
        "outputId": "6ad2cbaf-4923-4587-b25f-e6fbfa5b8ba0"
      },
      "source": [
        "df = pd.read_json( '/content/drive/MyDrive/Data/tweets_covid.json', lines=True)\n",
        "df.head(10)"
      ],
      "execution_count": 3,
      "outputs": [
        {
          "output_type": "execute_result",
          "data": {
            "text/html": [
              "<div>\n",
              "<style scoped>\n",
              "    .dataframe tbody tr th:only-of-type {\n",
              "        vertical-align: middle;\n",
              "    }\n",
              "\n",
              "    .dataframe tbody tr th {\n",
              "        vertical-align: top;\n",
              "    }\n",
              "\n",
              "    .dataframe thead th {\n",
              "        text-align: right;\n",
              "    }\n",
              "</style>\n",
              "<table border=\"1\" class=\"dataframe\">\n",
              "  <thead>\n",
              "    <tr style=\"text-align: right;\">\n",
              "      <th></th>\n",
              "      <th>id</th>\n",
              "      <th>created_at</th>\n",
              "      <th>created_at_dayofweek</th>\n",
              "      <th>created_at_hour</th>\n",
              "      <th>username</th>\n",
              "      <th>tweet</th>\n",
              "      <th>hashtags_count</th>\n",
              "      <th>mentions_count</th>\n",
              "      <th>cashtags_count</th>\n",
              "      <th>is_quote_tweet</th>\n",
              "      <th>word_count</th>\n",
              "      <th>character_count</th>\n",
              "      <th>replies_count</th>\n",
              "      <th>retweets_count</th>\n",
              "      <th>likes_count</th>\n",
              "      <th>photos_count</th>\n",
              "      <th>has_video</th>\n",
              "      <th>urls_count</th>\n",
              "    </tr>\n",
              "  </thead>\n",
              "  <tbody>\n",
              "    <tr>\n",
              "      <th>0</th>\n",
              "      <td>1454961380768026624</td>\n",
              "      <td>2021-10-31 23:59:59+00:00</td>\n",
              "      <td>6</td>\n",
              "      <td>23</td>\n",
              "      <td>ioptimizerealty</td>\n",
              "      <td>Your workplace has likely changed due to COVID...</td>\n",
              "      <td>6</td>\n",
              "      <td>0</td>\n",
              "      <td>0</td>\n",
              "      <td>False</td>\n",
              "      <td>42</td>\n",
              "      <td>274</td>\n",
              "      <td>0</td>\n",
              "      <td>0</td>\n",
              "      <td>0</td>\n",
              "      <td>0</td>\n",
              "      <td>False</td>\n",
              "      <td>1</td>\n",
              "    </tr>\n",
              "    <tr>\n",
              "      <th>1</th>\n",
              "      <td>1454961376816992258</td>\n",
              "      <td>2021-10-31 23:59:58+00:00</td>\n",
              "      <td>6</td>\n",
              "      <td>23</td>\n",
              "      <td>kiem1642</td>\n",
              "      <td>STOP THE SHOT: Doctors and Hospitals That Deny...</td>\n",
              "      <td>0</td>\n",
              "      <td>0</td>\n",
              "      <td>0</td>\n",
              "      <td>False</td>\n",
              "      <td>18</td>\n",
              "      <td>119</td>\n",
              "      <td>0</td>\n",
              "      <td>0</td>\n",
              "      <td>0</td>\n",
              "      <td>0</td>\n",
              "      <td>False</td>\n",
              "      <td>1</td>\n",
              "    </tr>\n",
              "    <tr>\n",
              "      <th>2</th>\n",
              "      <td>1454961362736660481</td>\n",
              "      <td>2021-10-31 23:59:55+00:00</td>\n",
              "      <td>6</td>\n",
              "      <td>23</td>\n",
              "      <td>kremlintrolls</td>\n",
              "      <td>White House Press Secretary Jen Psaki tests po...</td>\n",
              "      <td>0</td>\n",
              "      <td>0</td>\n",
              "      <td>0</td>\n",
              "      <td>False</td>\n",
              "      <td>11</td>\n",
              "      <td>87</td>\n",
              "      <td>1</td>\n",
              "      <td>2</td>\n",
              "      <td>4</td>\n",
              "      <td>0</td>\n",
              "      <td>False</td>\n",
              "      <td>1</td>\n",
              "    </tr>\n",
              "    <tr>\n",
              "      <th>3</th>\n",
              "      <td>1454961360643706883</td>\n",
              "      <td>2021-10-31 23:59:54+00:00</td>\n",
              "      <td>6</td>\n",
              "      <td>23</td>\n",
              "      <td>kent_willard</td>\n",
              "      <td>What are we solving for? Zero Covid cases is u...</td>\n",
              "      <td>0</td>\n",
              "      <td>0</td>\n",
              "      <td>0</td>\n",
              "      <td>False</td>\n",
              "      <td>44</td>\n",
              "      <td>263</td>\n",
              "      <td>0</td>\n",
              "      <td>0</td>\n",
              "      <td>0</td>\n",
              "      <td>0</td>\n",
              "      <td>False</td>\n",
              "      <td>0</td>\n",
              "    </tr>\n",
              "    <tr>\n",
              "      <th>4</th>\n",
              "      <td>1454961354796900356</td>\n",
              "      <td>2021-10-31 23:59:53+00:00</td>\n",
              "      <td>6</td>\n",
              "      <td>23</td>\n",
              "      <td>dacdac4dac</td>\n",
              "      <td>Narrator: it was not the pandemic.</td>\n",
              "      <td>0</td>\n",
              "      <td>0</td>\n",
              "      <td>0</td>\n",
              "      <td>True</td>\n",
              "      <td>6</td>\n",
              "      <td>34</td>\n",
              "      <td>2</td>\n",
              "      <td>8</td>\n",
              "      <td>93</td>\n",
              "      <td>0</td>\n",
              "      <td>False</td>\n",
              "      <td>0</td>\n",
              "    </tr>\n",
              "    <tr>\n",
              "      <th>5</th>\n",
              "      <td>1454961349990174726</td>\n",
              "      <td>2021-10-31 23:59:52+00:00</td>\n",
              "      <td>6</td>\n",
              "      <td>23</td>\n",
              "      <td>causantin</td>\n",
              "      <td>me since the pandemic started tbh</td>\n",
              "      <td>0</td>\n",
              "      <td>0</td>\n",
              "      <td>0</td>\n",
              "      <td>True</td>\n",
              "      <td>6</td>\n",
              "      <td>33</td>\n",
              "      <td>0</td>\n",
              "      <td>0</td>\n",
              "      <td>0</td>\n",
              "      <td>0</td>\n",
              "      <td>False</td>\n",
              "      <td>0</td>\n",
              "    </tr>\n",
              "    <tr>\n",
              "      <th>6</th>\n",
              "      <td>1454961349713285120</td>\n",
              "      <td>2021-10-31 23:59:52+00:00</td>\n",
              "      <td>6</td>\n",
              "      <td>23</td>\n",
              "      <td>not_corona_</td>\n",
              "      <td>Girls with glasses can ruin my life 🥲</td>\n",
              "      <td>0</td>\n",
              "      <td>0</td>\n",
              "      <td>0</td>\n",
              "      <td>False</td>\n",
              "      <td>8</td>\n",
              "      <td>37</td>\n",
              "      <td>0</td>\n",
              "      <td>2</td>\n",
              "      <td>3</td>\n",
              "      <td>0</td>\n",
              "      <td>False</td>\n",
              "      <td>0</td>\n",
              "    </tr>\n",
              "    <tr>\n",
              "      <th>7</th>\n",
              "      <td>1454961348945879043</td>\n",
              "      <td>2021-10-31 23:59:52+00:00</td>\n",
              "      <td>6</td>\n",
              "      <td>23</td>\n",
              "      <td>combusts</td>\n",
              "      <td>putting a bowl out bc yes im still afraid of c...</td>\n",
              "      <td>0</td>\n",
              "      <td>0</td>\n",
              "      <td>0</td>\n",
              "      <td>False</td>\n",
              "      <td>11</td>\n",
              "      <td>50</td>\n",
              "      <td>0</td>\n",
              "      <td>0</td>\n",
              "      <td>1</td>\n",
              "      <td>0</td>\n",
              "      <td>False</td>\n",
              "      <td>0</td>\n",
              "    </tr>\n",
              "    <tr>\n",
              "      <th>8</th>\n",
              "      <td>1454961347549175812</td>\n",
              "      <td>2021-10-31 23:59:51+00:00</td>\n",
              "      <td>6</td>\n",
              "      <td>23</td>\n",
              "      <td>louisehutch</td>\n",
              "      <td>Updated easy to follow  #COVID19 guidance #Wal...</td>\n",
              "      <td>3</td>\n",
              "      <td>0</td>\n",
              "      <td>0</td>\n",
              "      <td>False</td>\n",
              "      <td>9</td>\n",
              "      <td>80</td>\n",
              "      <td>0</td>\n",
              "      <td>1</td>\n",
              "      <td>2</td>\n",
              "      <td>1</td>\n",
              "      <td>False</td>\n",
              "      <td>0</td>\n",
              "    </tr>\n",
              "    <tr>\n",
              "      <th>9</th>\n",
              "      <td>1454961342373195780</td>\n",
              "      <td>2021-10-31 23:59:50+00:00</td>\n",
              "      <td>6</td>\n",
              "      <td>23</td>\n",
              "      <td>sianchristinak</td>\n",
              "      <td>the fitness and wellness people being the abso...</td>\n",
              "      <td>0</td>\n",
              "      <td>0</td>\n",
              "      <td>0</td>\n",
              "      <td>False</td>\n",
              "      <td>37</td>\n",
              "      <td>189</td>\n",
              "      <td>3</td>\n",
              "      <td>5</td>\n",
              "      <td>100</td>\n",
              "      <td>0</td>\n",
              "      <td>False</td>\n",
              "      <td>0</td>\n",
              "    </tr>\n",
              "  </tbody>\n",
              "</table>\n",
              "</div>"
            ],
            "text/plain": [
              "                    id                created_at  ...  has_video  urls_count\n",
              "0  1454961380768026624 2021-10-31 23:59:59+00:00  ...      False           1\n",
              "1  1454961376816992258 2021-10-31 23:59:58+00:00  ...      False           1\n",
              "2  1454961362736660481 2021-10-31 23:59:55+00:00  ...      False           1\n",
              "3  1454961360643706883 2021-10-31 23:59:54+00:00  ...      False           0\n",
              "4  1454961354796900356 2021-10-31 23:59:53+00:00  ...      False           0\n",
              "5  1454961349990174726 2021-10-31 23:59:52+00:00  ...      False           0\n",
              "6  1454961349713285120 2021-10-31 23:59:52+00:00  ...      False           0\n",
              "7  1454961348945879043 2021-10-31 23:59:52+00:00  ...      False           0\n",
              "8  1454961347549175812 2021-10-31 23:59:51+00:00  ...      False           0\n",
              "9  1454961342373195780 2021-10-31 23:59:50+00:00  ...      False           0\n",
              "\n",
              "[10 rows x 18 columns]"
            ]
          },
          "metadata": {},
          "execution_count": 3
        }
      ]
    },
    {
      "cell_type": "code",
      "metadata": {
        "colab": {
          "base_uri": "https://localhost:8080/"
        },
        "id": "WGbDyKAhAi9Q",
        "outputId": "c4a4a3bc-a509-4576-f56a-e9a88b39387b"
      },
      "source": [
        "df.shape"
      ],
      "execution_count": 4,
      "outputs": [
        {
          "output_type": "execute_result",
          "data": {
            "text/plain": [
              "(864804, 18)"
            ]
          },
          "metadata": {},
          "execution_count": 4
        }
      ]
    },
    {
      "cell_type": "code",
      "metadata": {
        "id": "TaT6yD355tiT"
      },
      "source": [
        "df = df[['tweet','likes_count']]"
      ],
      "execution_count": 5,
      "outputs": []
    },
    {
      "cell_type": "code",
      "metadata": {
        "colab": {
          "base_uri": "https://localhost:8080/",
          "height": 424
        },
        "id": "F3Ig0yEV5tlk",
        "outputId": "5ed53f38-5195-4eb1-d386-2e114849e6f8"
      },
      "source": [
        "df"
      ],
      "execution_count": 6,
      "outputs": [
        {
          "output_type": "execute_result",
          "data": {
            "text/html": [
              "<div>\n",
              "<style scoped>\n",
              "    .dataframe tbody tr th:only-of-type {\n",
              "        vertical-align: middle;\n",
              "    }\n",
              "\n",
              "    .dataframe tbody tr th {\n",
              "        vertical-align: top;\n",
              "    }\n",
              "\n",
              "    .dataframe thead th {\n",
              "        text-align: right;\n",
              "    }\n",
              "</style>\n",
              "<table border=\"1\" class=\"dataframe\">\n",
              "  <thead>\n",
              "    <tr style=\"text-align: right;\">\n",
              "      <th></th>\n",
              "      <th>tweet</th>\n",
              "      <th>likes_count</th>\n",
              "    </tr>\n",
              "  </thead>\n",
              "  <tbody>\n",
              "    <tr>\n",
              "      <th>0</th>\n",
              "      <td>Your workplace has likely changed due to COVID...</td>\n",
              "      <td>0</td>\n",
              "    </tr>\n",
              "    <tr>\n",
              "      <th>1</th>\n",
              "      <td>STOP THE SHOT: Doctors and Hospitals That Deny...</td>\n",
              "      <td>0</td>\n",
              "    </tr>\n",
              "    <tr>\n",
              "      <th>2</th>\n",
              "      <td>White House Press Secretary Jen Psaki tests po...</td>\n",
              "      <td>4</td>\n",
              "    </tr>\n",
              "    <tr>\n",
              "      <th>3</th>\n",
              "      <td>What are we solving for? Zero Covid cases is u...</td>\n",
              "      <td>0</td>\n",
              "    </tr>\n",
              "    <tr>\n",
              "      <th>4</th>\n",
              "      <td>Narrator: it was not the pandemic.</td>\n",
              "      <td>93</td>\n",
              "    </tr>\n",
              "    <tr>\n",
              "      <th>...</th>\n",
              "      <td>...</td>\n",
              "      <td>...</td>\n",
              "    </tr>\n",
              "    <tr>\n",
              "      <th>864799</th>\n",
              "      <td>𝗧𝗵𝗲 𝘀𝗲𝗰𝗼𝗻𝗱 𝗲𝗽𝗶𝘀𝗼𝗱𝗲 𝗼𝗳 𝗼𝘂𝗿 𝗶𝗻𝘁𝗲𝗿𝘃𝗶𝗲𝘄 𝘀𝗲𝗿𝗶𝗲𝘀 𝗶𝘀 ...</td>\n",
              "      <td>3</td>\n",
              "    </tr>\n",
              "    <tr>\n",
              "      <th>864800</th>\n",
              "      <td>Anyone else have problems breathing on humid d...</td>\n",
              "      <td>1</td>\n",
              "    </tr>\n",
              "    <tr>\n",
              "      <th>864801</th>\n",
              "      <td>Fed's Kaplan on Policy Shift, Guidance, Pandem...</td>\n",
              "      <td>0</td>\n",
              "    </tr>\n",
              "    <tr>\n",
              "      <th>864802</th>\n",
              "      <td>Pre pandemic vs now  i haven't had a major hai...</td>\n",
              "      <td>0</td>\n",
              "    </tr>\n",
              "    <tr>\n",
              "      <th>864803</th>\n",
              "      <td>Covid can spread when an infected person cough...</td>\n",
              "      <td>0</td>\n",
              "    </tr>\n",
              "  </tbody>\n",
              "</table>\n",
              "<p>864804 rows × 2 columns</p>\n",
              "</div>"
            ],
            "text/plain": [
              "                                                    tweet  likes_count\n",
              "0       Your workplace has likely changed due to COVID...            0\n",
              "1       STOP THE SHOT: Doctors and Hospitals That Deny...            0\n",
              "2       White House Press Secretary Jen Psaki tests po...            4\n",
              "3       What are we solving for? Zero Covid cases is u...            0\n",
              "4                      Narrator: it was not the pandemic.           93\n",
              "...                                                   ...          ...\n",
              "864799  𝗧𝗵𝗲 𝘀𝗲𝗰𝗼𝗻𝗱 𝗲𝗽𝗶𝘀𝗼𝗱𝗲 𝗼𝗳 𝗼𝘂𝗿 𝗶𝗻𝘁𝗲𝗿𝘃𝗶𝗲𝘄 𝘀𝗲𝗿𝗶𝗲𝘀 𝗶𝘀 ...            3\n",
              "864800  Anyone else have problems breathing on humid d...            1\n",
              "864801  Fed's Kaplan on Policy Shift, Guidance, Pandem...            0\n",
              "864802  Pre pandemic vs now  i haven't had a major hai...            0\n",
              "864803  Covid can spread when an infected person cough...            0\n",
              "\n",
              "[864804 rows x 2 columns]"
            ]
          },
          "metadata": {},
          "execution_count": 6
        }
      ]
    },
    {
      "cell_type": "code",
      "metadata": {
        "id": "5avgI9sQ8GX0"
      },
      "source": [
        "df = df.drop(df[(df['likes_count'] == 0)].index)"
      ],
      "execution_count": 6,
      "outputs": []
    },
    {
      "cell_type": "code",
      "metadata": {
        "colab": {
          "base_uri": "https://localhost:8080/"
        },
        "id": "j0cUfBEhBHXc",
        "outputId": "b6dd3139-242a-48ee-e7d0-bfa888c947e8"
      },
      "source": [
        "df.shape"
      ],
      "execution_count": 7,
      "outputs": [
        {
          "output_type": "execute_result",
          "data": {
            "text/plain": [
              "(432047, 2)"
            ]
          },
          "metadata": {},
          "execution_count": 7
        }
      ]
    },
    {
      "cell_type": "code",
      "metadata": {
        "colab": {
          "base_uri": "https://localhost:8080/",
          "height": 419
        },
        "id": "v9p1qn2PBRF-",
        "outputId": "03d7a2ce-4245-4415-e492-cfcd57ff8feb"
      },
      "source": [
        "df[df['likes_count'] == 1]"
      ],
      "execution_count": null,
      "outputs": [
        {
          "output_type": "execute_result",
          "data": {
            "text/html": [
              "<div>\n",
              "<style scoped>\n",
              "    .dataframe tbody tr th:only-of-type {\n",
              "        vertical-align: middle;\n",
              "    }\n",
              "\n",
              "    .dataframe tbody tr th {\n",
              "        vertical-align: top;\n",
              "    }\n",
              "\n",
              "    .dataframe thead th {\n",
              "        text-align: right;\n",
              "    }\n",
              "</style>\n",
              "<table border=\"1\" class=\"dataframe\">\n",
              "  <thead>\n",
              "    <tr style=\"text-align: right;\">\n",
              "      <th></th>\n",
              "      <th>tweet</th>\n",
              "      <th>likes_count</th>\n",
              "    </tr>\n",
              "  </thead>\n",
              "  <tbody>\n",
              "    <tr>\n",
              "      <th>7</th>\n",
              "      <td>putting a bowl out bc yes im still afraid of c...</td>\n",
              "      <td>1</td>\n",
              "    </tr>\n",
              "    <tr>\n",
              "      <th>10</th>\n",
              "      <td>The Vax Gives you covid! Research it you will ...</td>\n",
              "      <td>1</td>\n",
              "    </tr>\n",
              "    <tr>\n",
              "      <th>22</th>\n",
              "      <td>Roughly 35% to 40% of the world population has...</td>\n",
              "      <td>1</td>\n",
              "    </tr>\n",
              "    <tr>\n",
              "      <th>26</th>\n",
              "      <td>Millennium Kids made #GlobalPumpkins tracking ...</td>\n",
              "      <td>1</td>\n",
              "    </tr>\n",
              "    <tr>\n",
              "      <th>28</th>\n",
              "      <td>Yeah Utah ended pandemic unemployment in June ...</td>\n",
              "      <td>1</td>\n",
              "    </tr>\n",
              "    <tr>\n",
              "      <th>...</th>\n",
              "      <td>...</td>\n",
              "      <td>...</td>\n",
              "    </tr>\n",
              "    <tr>\n",
              "      <th>864753</th>\n",
              "      <td>Astonished that Johnson is not taking simple m...</td>\n",
              "      <td>1</td>\n",
              "    </tr>\n",
              "    <tr>\n",
              "      <th>864768</th>\n",
              "      <td>The inside story of how the race to develop th...</td>\n",
              "      <td>1</td>\n",
              "    </tr>\n",
              "    <tr>\n",
              "      <th>864794</th>\n",
              "      <td>classmate has covid. i didn't come in contact ...</td>\n",
              "      <td>1</td>\n",
              "    </tr>\n",
              "    <tr>\n",
              "      <th>864796</th>\n",
              "      <td>Since 1900s c.76,899 civilians killed in all w...</td>\n",
              "      <td>1</td>\n",
              "    </tr>\n",
              "    <tr>\n",
              "      <th>864800</th>\n",
              "      <td>Anyone else have problems breathing on humid d...</td>\n",
              "      <td>1</td>\n",
              "    </tr>\n",
              "  </tbody>\n",
              "</table>\n",
              "<p>127065 rows × 2 columns</p>\n",
              "</div>"
            ],
            "text/plain": [
              "                                                    tweet  likes_count\n",
              "7       putting a bowl out bc yes im still afraid of c...            1\n",
              "10      The Vax Gives you covid! Research it you will ...            1\n",
              "22      Roughly 35% to 40% of the world population has...            1\n",
              "26      Millennium Kids made #GlobalPumpkins tracking ...            1\n",
              "28      Yeah Utah ended pandemic unemployment in June ...            1\n",
              "...                                                   ...          ...\n",
              "864753  Astonished that Johnson is not taking simple m...            1\n",
              "864768  The inside story of how the race to develop th...            1\n",
              "864794  classmate has covid. i didn't come in contact ...            1\n",
              "864796  Since 1900s c.76,899 civilians killed in all w...            1\n",
              "864800  Anyone else have problems breathing on humid d...            1\n",
              "\n",
              "[127065 rows x 2 columns]"
            ]
          },
          "metadata": {},
          "execution_count": 22
        }
      ]
    },
    {
      "cell_type": "code",
      "metadata": {
        "id": "_U_BESXeB2on"
      },
      "source": [
        "import seaborn as sns"
      ],
      "execution_count": null,
      "outputs": []
    },
    {
      "cell_type": "code",
      "metadata": {
        "colab": {
          "base_uri": "https://localhost:8080/",
          "height": 351
        },
        "id": "nZWNqvbmB4lW",
        "outputId": "37381876-694a-4900-9a75-1511ee707527"
      },
      "source": [
        "sns.distplot(df['likes_count'])"
      ],
      "execution_count": null,
      "outputs": [
        {
          "output_type": "stream",
          "name": "stderr",
          "text": [
            "/usr/local/lib/python3.7/dist-packages/seaborn/distributions.py:2619: FutureWarning: `distplot` is a deprecated function and will be removed in a future version. Please adapt your code to use either `displot` (a figure-level function with similar flexibility) or `histplot` (an axes-level function for histograms).\n",
            "  warnings.warn(msg, FutureWarning)\n"
          ]
        },
        {
          "output_type": "execute_result",
          "data": {
            "text/plain": [
              "<matplotlib.axes._subplots.AxesSubplot at 0x7ffa948a2cd0>"
            ]
          },
          "metadata": {},
          "execution_count": 24
        },
        {
          "output_type": "display_data",
          "data": {
            "image/png": "[encoded data removed]",
            "text/plain": [
              "<Figure size 432x288 with 1 Axes>"
            ]
          },
          "metadata": {
            "needs_background": "light"
          }
        }
      ]
    },
    {
      "cell_type": "code",
      "metadata": {
        "id": "1rHv6CPz5toY"
      },
      "source": [
        "df.loc[df['likes_count'] <= 2, 'likes_count'] = 1"
      ],
      "execution_count": 8,
      "outputs": []
    },
    {
      "cell_type": "code",
      "metadata": {
        "id": "8Ubsi17H5trf"
      },
      "source": [
        "df.loc[((df['likes_count'] > 2) & (df['likes_count'] <= 10)) , 'likes_count'] = 2"
      ],
      "execution_count": 9,
      "outputs": []
    },
    {
      "cell_type": "code",
      "metadata": {
        "id": "jsbJmN-eDbWO"
      },
      "source": [
        "df.loc[df['likes_count'] > 10 , 'likes_count'] = 3"
      ],
      "execution_count": 10,
      "outputs": []
    },
    {
      "cell_type": "code",
      "metadata": {
        "colab": {
          "base_uri": "https://localhost:8080/",
          "height": 419
        },
        "id": "Ow-I3YOk88hm",
        "outputId": "bff03ea9-79ba-4263-86fd-756eb267425c"
      },
      "source": [
        "df"
      ],
      "execution_count": null,
      "outputs": [
        {
          "output_type": "execute_result",
          "data": {
            "text/html": [
              "<div>\n",
              "<style scoped>\n",
              "    .dataframe tbody tr th:only-of-type {\n",
              "        vertical-align: middle;\n",
              "    }\n",
              "\n",
              "    .dataframe tbody tr th {\n",
              "        vertical-align: top;\n",
              "    }\n",
              "\n",
              "    .dataframe thead th {\n",
              "        text-align: right;\n",
              "    }\n",
              "</style>\n",
              "<table border=\"1\" class=\"dataframe\">\n",
              "  <thead>\n",
              "    <tr style=\"text-align: right;\">\n",
              "      <th></th>\n",
              "      <th>tweet</th>\n",
              "      <th>likes_count</th>\n",
              "    </tr>\n",
              "  </thead>\n",
              "  <tbody>\n",
              "    <tr>\n",
              "      <th>2</th>\n",
              "      <td>White House Press Secretary Jen Psaki tests po...</td>\n",
              "      <td>2</td>\n",
              "    </tr>\n",
              "    <tr>\n",
              "      <th>4</th>\n",
              "      <td>Narrator: it was not the pandemic.</td>\n",
              "      <td>3</td>\n",
              "    </tr>\n",
              "    <tr>\n",
              "      <th>6</th>\n",
              "      <td>Girls with glasses can ruin my life 🥲</td>\n",
              "      <td>2</td>\n",
              "    </tr>\n",
              "    <tr>\n",
              "      <th>7</th>\n",
              "      <td>putting a bowl out bc yes im still afraid of c...</td>\n",
              "      <td>1</td>\n",
              "    </tr>\n",
              "    <tr>\n",
              "      <th>8</th>\n",
              "      <td>Updated easy to follow  #COVID19 guidance #Wal...</td>\n",
              "      <td>1</td>\n",
              "    </tr>\n",
              "    <tr>\n",
              "      <th>...</th>\n",
              "      <td>...</td>\n",
              "      <td>...</td>\n",
              "    </tr>\n",
              "    <tr>\n",
              "      <th>864792</th>\n",
              "      <td>The Australian Red Cross has teamed up with th...</td>\n",
              "      <td>2</td>\n",
              "    </tr>\n",
              "    <tr>\n",
              "      <th>864794</th>\n",
              "      <td>classmate has covid. i didn't come in contact ...</td>\n",
              "      <td>1</td>\n",
              "    </tr>\n",
              "    <tr>\n",
              "      <th>864796</th>\n",
              "      <td>Since 1900s c.76,899 civilians killed in all w...</td>\n",
              "      <td>1</td>\n",
              "    </tr>\n",
              "    <tr>\n",
              "      <th>864799</th>\n",
              "      <td>𝗧𝗵𝗲 𝘀𝗲𝗰𝗼𝗻𝗱 𝗲𝗽𝗶𝘀𝗼𝗱𝗲 𝗼𝗳 𝗼𝘂𝗿 𝗶𝗻𝘁𝗲𝗿𝘃𝗶𝗲𝘄 𝘀𝗲𝗿𝗶𝗲𝘀 𝗶𝘀 ...</td>\n",
              "      <td>2</td>\n",
              "    </tr>\n",
              "    <tr>\n",
              "      <th>864800</th>\n",
              "      <td>Anyone else have problems breathing on humid d...</td>\n",
              "      <td>1</td>\n",
              "    </tr>\n",
              "  </tbody>\n",
              "</table>\n",
              "<p>432047 rows × 2 columns</p>\n",
              "</div>"
            ],
            "text/plain": [
              "                                                    tweet  likes_count\n",
              "2       White House Press Secretary Jen Psaki tests po...            2\n",
              "4                      Narrator: it was not the pandemic.            3\n",
              "6                   Girls with glasses can ruin my life 🥲            2\n",
              "7       putting a bowl out bc yes im still afraid of c...            1\n",
              "8       Updated easy to follow  #COVID19 guidance #Wal...            1\n",
              "...                                                   ...          ...\n",
              "864792  The Australian Red Cross has teamed up with th...            2\n",
              "864794  classmate has covid. i didn't come in contact ...            1\n",
              "864796  Since 1900s c.76,899 civilians killed in all w...            1\n",
              "864799  𝗧𝗵𝗲 𝘀𝗲𝗰𝗼𝗻𝗱 𝗲𝗽𝗶𝘀𝗼𝗱𝗲 𝗼𝗳 𝗼𝘂𝗿 𝗶𝗻𝘁𝗲𝗿𝘃𝗶𝗲𝘄 𝘀𝗲𝗿𝗶𝗲𝘀 𝗶𝘀 ...            2\n",
              "864800  Anyone else have problems breathing on humid d...            1\n",
              "\n",
              "[432047 rows x 2 columns]"
            ]
          },
          "metadata": {},
          "execution_count": 46
        }
      ]
    },
    {
      "cell_type": "code",
      "metadata": {
        "colab": {
          "base_uri": "https://localhost:8080/",
          "height": 338
        },
        "id": "e_oikWID_8xs",
        "outputId": "4afaee3e-1ee5-4339-ce7d-85d85936a823"
      },
      "source": [
        "cnt_pro = df['likes_count'].value_counts()\n",
        "\n",
        "plt.figure(figsize=(12,4))\n",
        "sns.barplot(cnt_pro.index, cnt_pro.values, alpha=0.8)\n",
        "plt.ylabel('Number of Occurrences', fontsize=12)\n",
        "plt.xlabel('likes_count', fontsize=12)\n",
        "plt.xticks(rotation=90)\n",
        "plt.show();"
      ],
      "execution_count": 11,
      "outputs": [
        {
          "output_type": "stream",
          "name": "stderr",
          "text": [
            "/usr/local/lib/python3.7/dist-packages/seaborn/_decorators.py:43: FutureWarning: Pass the following variables as keyword args: x, y. From version 0.12, the only valid positional argument will be `data`, and passing other arguments without an explicit keyword will result in an error or misinterpretation.\n",
            "  FutureWarning\n"
          ]
        },
        {
          "output_type": "display_data",
          "data": {
            "image/png": "[encoded data removed]",
            "text/plain": [
              "<Figure size 864x288 with 1 Axes>"
            ]
          },
          "metadata": {
            "needs_background": "light"
          }
        }
      ]
    },
    {
      "cell_type": "code",
      "metadata": {
        "id": "lgM3zzOs88mk"
      },
      "source": [
        "from bs4 import BeautifulSoup\n",
        "def cleanText(text):\n",
        "    text = BeautifulSoup(text, \"lxml\").text\n",
        "    text = re.sub(r'\\|\\|\\|', r' ', text) \n",
        "    text = re.sub(r'http\\S+', r'<URL>', text)\n",
        "    text = text.lower()\n",
        "    text = text.replace('x', '')\n",
        "    return text"
      ],
      "execution_count": 12,
      "outputs": []
    },
    {
      "cell_type": "code",
      "metadata": {
        "id": "SK1LM7R59I4D"
      },
      "source": [
        "df['tweet'] = df['tweet'].apply(cleanText)"
      ],
      "execution_count": 13,
      "outputs": []
    },
    {
      "cell_type": "code",
      "metadata": {
        "id": "FqPOr1EO9I7m"
      },
      "source": [
        "train, test = train_test_split(df, test_size=0.3, random_state=42)"
      ],
      "execution_count": 14,
      "outputs": []
    },
    {
      "cell_type": "code",
      "metadata": {
        "id": "5buCtNq79I_v"
      },
      "source": [
        "import nltk\n",
        "from nltk.corpus import stopwords\n",
        "def tokenize_text(text):\n",
        "    tokens = []\n",
        "    for sent in nltk.sent_tokenize(text):\n",
        "        for word in nltk.word_tokenize(sent):\n",
        "            if len(word) < 2:\n",
        "                continue\n",
        "            tokens.append(word.lower())\n",
        "    return tokens"
      ],
      "execution_count": 15,
      "outputs": []
    },
    {
      "cell_type": "code",
      "metadata": {
        "colab": {
          "base_uri": "https://localhost:8080/"
        },
        "id": "clI_aF_M9ovg",
        "outputId": "1db6cfef-89cc-42a6-8348-63b417d3277f"
      },
      "source": [
        "import nltk\n",
        "nltk.download('punkt')"
      ],
      "execution_count": 16,
      "outputs": [
        {
          "output_type": "stream",
          "name": "stdout",
          "text": [
            "[nltk_data] Downloading package punkt to /root/nltk_data...\n",
            "[nltk_data]   Unzipping tokenizers/punkt.zip.\n"
          ]
        },
        {
          "output_type": "execute_result",
          "data": {
            "text/plain": [
              "True"
            ]
          },
          "metadata": {},
          "execution_count": 16
        }
      ]
    },
    {
      "cell_type": "code",
      "metadata": {
        "id": "SskyOEoq9JDm"
      },
      "source": [
        "train_tagged = train.apply(\n",
        "    lambda r: TaggedDocument(words=tokenize_text(r['tweet']), tags=[r.likes_count]), axis=1)\n",
        "test_tagged = test.apply(\n",
        "    lambda r: TaggedDocument(words=tokenize_text(r['tweet']), tags=[r.likes_count]), axis=1)"
      ],
      "execution_count": 17,
      "outputs": []
    },
    {
      "cell_type": "code",
      "metadata": {
        "colab": {
          "base_uri": "https://localhost:8080/"
        },
        "id": "IwywDYam9zMY",
        "outputId": "ab53a9c2-ad8b-4c78-9502-4b49df617dd0"
      },
      "source": [
        "train_tagged.values[30]"
      ],
      "execution_count": 18,
      "outputs": [
        {
          "output_type": "execute_result",
          "data": {
            "text/plain": [
              "TaggedDocument(words=['new', 'south', 'wales', 'has', 'reported', '282', 'new', 'local', 'cases', 'of', 'covid-19', 'and', 'virus-related', 'death', '7news', 'url'], tags=[2])"
            ]
          },
          "metadata": {},
          "execution_count": 18
        }
      ]
    },
    {
      "cell_type": "code",
      "metadata": {
        "id": "wZb8pEIu9zQV"
      },
      "source": [
        "import multiprocessing\n",
        "\n",
        "cores = multiprocessing.cpu_count()"
      ],
      "execution_count": 19,
      "outputs": []
    },
    {
      "cell_type": "code",
      "metadata": {
        "colab": {
          "base_uri": "https://localhost:8080/"
        },
        "id": "6UMPS7ua9zS2",
        "outputId": "b2939d54-50ef-488f-e28d-49b4d8aecd3d"
      },
      "source": [
        "model_dbow = Doc2Vec(dm=0, vector_size=300, negative=5, hs=0, min_count=2, sample = 0, workers=cores)\n",
        "model_dbow.build_vocab([x for x in tqdm(train_tagged.values)])"
      ],
      "execution_count": 20,
      "outputs": [
        {
          "output_type": "stream",
          "name": "stderr",
          "text": [
            "100%|██████████| 302432/302432 [00:00<00:00, 2943429.96it/s]\n"
          ]
        }
      ]
    },
    {
      "cell_type": "code",
      "metadata": {
        "colab": {
          "base_uri": "https://localhost:8080/"
        },
        "id": "DlPTDJIs9JIF",
        "outputId": "34a6975a-9033-443f-c993-6ff4af1ad3ad"
      },
      "source": [
        "%%time\n",
        "for epoch in range(30):\n",
        "    model_dbow.train(utils.shuffle([x for x in tqdm(train_tagged.values)]), total_examples=len(train_tagged.values), epochs=1)\n",
        "    model_dbow.alpha -= 0.002\n",
        "    model_dbow.min_alpha = model_dbow.alpha"
      ],
      "execution_count": 21,
      "outputs": [
        {
          "output_type": "stream",
          "name": "stderr",
          "text": [
            "100%|██████████| 302432/302432 [00:00<00:00, 2746812.50it/s]\n",
            "100%|██████████| 302432/302432 [00:00<00:00, 2731675.47it/s]\n",
            "100%|██████████| 302432/302432 [00:00<00:00, 2870436.34it/s]\n",
            "100%|██████████| 302432/302432 [00:00<00:00, 2873088.93it/s]\n",
            "100%|██████████| 302432/302432 [00:00<00:00, 2761913.75it/s]\n",
            "100%|██████████| 302432/302432 [00:00<00:00, 2862133.28it/s]\n",
            "100%|██████████| 302432/302432 [00:00<00:00, 2919247.24it/s]\n",
            "100%|██████████| 302432/302432 [00:00<00:00, 2691337.06it/s]\n",
            "100%|██████████| 302432/302432 [00:00<00:00, 2747020.70it/s]\n",
            "100%|██████████| 302432/302432 [00:00<00:00, 2786228.34it/s]\n",
            "100%|██████████| 302432/302432 [00:00<00:00, 2920786.53it/s]\n",
            "100%|██████████| 302432/302432 [00:00<00:00, 2740462.86it/s]\n",
            "100%|██████████| 302432/302432 [00:00<00:00, 2825142.37it/s]\n",
            "100%|██████████| 302432/302432 [00:00<00:00, 2784106.34it/s]\n",
            "100%|██████████| 302432/302432 [00:00<00:00, 2875968.10it/s]\n",
            "100%|██████████| 302432/302432 [00:00<00:00, 2740966.20it/s]\n",
            "100%|██████████| 302432/302432 [00:00<00:00, 2882752.34it/s]\n",
            "100%|██████████| 302432/302432 [00:00<00:00, 2805665.22it/s]\n",
            "100%|██████████| 302432/302432 [00:00<00:00, 2839053.06it/s]\n",
            "100%|██████████| 302432/302432 [00:00<00:00, 2872275.73it/s]\n",
            "100%|██████████| 302432/302432 [00:00<00:00, 2819309.11it/s]\n",
            "100%|██████████| 302432/302432 [00:00<00:00, 2735244.99it/s]\n",
            "100%|██████████| 302432/302432 [00:00<00:00, 2815985.73it/s]\n",
            "100%|██████████| 302432/302432 [00:00<00:00, 2817274.09it/s]\n",
            "100%|██████████| 302432/302432 [00:00<00:00, 2842998.13it/s]\n",
            "100%|██████████| 302432/302432 [00:00<00:00, 2829294.93it/s]\n",
            "100%|██████████| 302432/302432 [00:00<00:00, 2848827.55it/s]\n",
            "100%|██████████| 302432/302432 [00:00<00:00, 2896562.80it/s]\n",
            "100%|██████████| 302432/302432 [00:00<00:00, 2817918.72it/s]\n",
            "100%|██████████| 302432/302432 [00:00<00:00, 2875348.79it/s]\n"
          ]
        },
        {
          "output_type": "stream",
          "name": "stdout",
          "text": [
            "CPU times: user 16min 55s, sys: 1min 21s, total: 18min 17s\n",
            "Wall time: 10min 27s\n"
          ]
        }
      ]
    },
    {
      "cell_type": "code",
      "metadata": {
        "id": "zg2ixx0h-sTb"
      },
      "source": [
        "def vec_for_learning(model, tagged_docs):\n",
        "    sents = tagged_docs.values\n",
        "    targets, regressors = zip(*[(doc.tags[0], model.infer_vector(doc.words, steps=20)) for doc in sents])\n",
        "    return targets, regressors"
      ],
      "execution_count": 22,
      "outputs": []
    },
    {
      "cell_type": "code",
      "metadata": {
        "id": "jeAfeOuF-sfx"
      },
      "source": [
        "y_train, X_train = vec_for_learning(model_dbow, train_tagged)\n",
        "y_test, X_test = vec_for_learning(model_dbow, test_tagged)"
      ],
      "execution_count": 23,
      "outputs": []
    },
    {
      "cell_type": "code",
      "metadata": {
        "colab": {
          "base_uri": "https://localhost:8080/"
        },
        "id": "LMeO1HUO-skl",
        "outputId": "0f5f2177-fd63-4a42-f0da-357bc360c760"
      },
      "source": [
        "logreg = LogisticRegression(n_jobs=1, C=1e5)\n",
        "logreg.fit(X_train, y_train)\n",
        "y_pred = logreg.predict(X_test)"
      ],
      "execution_count": 24,
      "outputs": [
        {
          "output_type": "stream",
          "name": "stderr",
          "text": [
            "/usr/local/lib/python3.7/dist-packages/sklearn/linear_model/_logistic.py:818: ConvergenceWarning: lbfgs failed to converge (status=1):\n",
            "STOP: TOTAL NO. of ITERATIONS REACHED LIMIT.\n",
            "\n",
            "Increase the number of iterations (max_iter) or scale the data as shown in:\n",
            "    https://scikit-learn.org/stable/modules/preprocessing.html\n",
            "Please also refer to the documentation for alternative solver options:\n",
            "    https://scikit-learn.org/stable/modules/linear_model.html#logistic-regression\n",
            "  extra_warning_msg=_LOGISTIC_SOLVER_CONVERGENCE_MSG,\n"
          ]
        }
      ]
    },
    {
      "cell_type": "code",
      "metadata": {
        "colab": {
          "base_uri": "https://localhost:8080/"
        },
        "id": "Bcjy9xPf-zO1",
        "outputId": "d9bce84c-4de3-47f2-d6df-06e5e3e8025d"
      },
      "source": [
        "from sklearn.metrics import accuracy_score, f1_score\n",
        "\n",
        "print('Testing accuracy %s' % accuracy_score(y_test, y_pred))\n",
        "print('Testing F1 score: {}'.format(f1_score(y_test, y_pred, average='weighted')))"
      ],
      "execution_count": 25,
      "outputs": [
        {
          "output_type": "stream",
          "name": "stdout",
          "text": [
            "Testing accuracy 0.4403194074759866\n",
            "Testing F1 score: 0.2699155106518789\n"
          ]
        }
      ]
    },
    {
      "cell_type": "code",
      "metadata": {
        "colab": {
          "base_uri": "https://localhost:8080/"
        },
        "id": "Dw_xwEgJ-zRL",
        "outputId": "6ce05647-edb4-42cd-9575-bdbd3b5bfd9c"
      },
      "source": [
        "model_dmm = Doc2Vec(dm=1, dm_mean=1, vector_size=300, window=10, negative=5, min_count=1, workers=5, alpha=0.065, min_alpha=0.065)\n",
        "model_dmm.build_vocab([x for x in tqdm(train_tagged.values)])"
      ],
      "execution_count": 26,
      "outputs": [
        {
          "output_type": "stream",
          "name": "stderr",
          "text": [
            "100%|██████████| 302432/302432 [00:00<00:00, 2762094.17it/s]\n"
          ]
        }
      ]
    },
    {
      "cell_type": "code",
      "metadata": {
        "colab": {
          "base_uri": "https://localhost:8080/"
        },
        "id": "buagmIKV-zUO",
        "outputId": "0a90881f-95e6-4ae1-810b-68690e0d85d2"
      },
      "source": [
        "%%time\n",
        "for epoch in range(30):\n",
        "    model_dmm.train(utils.shuffle([x for x in tqdm(train_tagged.values)]), total_examples=len(train_tagged.values), epochs=1)\n",
        "    model_dmm.alpha -= 0.002\n",
        "    model_dmm.min_alpha = model_dmm.alpha"
      ],
      "execution_count": 27,
      "outputs": [
        {
          "output_type": "stream",
          "name": "stderr",
          "text": [
            "100%|██████████| 302432/302432 [00:00<00:00, 2781371.48it/s]\n",
            "100%|██████████| 302432/302432 [00:00<00:00, 2714210.59it/s]\n",
            "100%|██████████| 302432/302432 [00:00<00:00, 2722406.61it/s]\n",
            "100%|██████████| 302432/302432 [00:00<00:00, 2921923.55it/s]\n",
            "100%|██████████| 302432/302432 [00:00<00:00, 2698987.52it/s]\n",
            "100%|██████████| 302432/302432 [00:00<00:00, 2821052.16it/s]\n",
            "100%|██████████| 302432/302432 [00:00<00:00, 2797084.37it/s]\n",
            "100%|██████████| 302432/302432 [00:00<00:00, 2719674.94it/s]\n",
            "100%|██████████| 302432/302432 [00:00<00:00, 2801340.38it/s]\n",
            "100%|██████████| 302432/302432 [00:00<00:00, 2794711.82it/s]\n",
            "100%|██████████| 302432/302432 [00:00<00:00, 2783727.54it/s]\n",
            "100%|██████████| 302432/302432 [00:00<00:00, 2768889.03it/s]\n",
            "100%|██████████| 302432/302432 [00:00<00:00, 2774029.90it/s]\n",
            "100%|██████████| 302432/302432 [00:00<00:00, 2811809.78it/s]\n",
            "100%|██████████| 302432/302432 [00:00<00:00, 2723166.38it/s]\n",
            "100%|██████████| 302432/302432 [00:00<00:00, 2823758.79it/s]\n",
            "100%|██████████| 302432/302432 [00:00<00:00, 2769287.99it/s]\n",
            "100%|██████████| 302432/302432 [00:00<00:00, 2816110.76it/s]\n",
            "100%|██████████| 302432/302432 [00:00<00:00, 2892527.15it/s]\n",
            "100%|██████████| 302432/302432 [00:00<00:00, 2790500.46it/s]\n",
            "100%|██████████| 302432/302432 [00:00<00:00, 2815410.72it/s]\n",
            "100%|██████████| 302432/302432 [00:00<00:00, 2832504.34it/s]\n",
            "100%|██████████| 302432/302432 [00:00<00:00, 2816517.19it/s]\n",
            "100%|██████████| 302432/302432 [00:00<00:00, 2794533.27it/s]\n",
            "100%|██████████| 302432/302432 [00:00<00:00, 2808765.24it/s]\n",
            "100%|██████████| 302432/302432 [00:00<00:00, 2838551.17it/s]\n",
            "100%|██████████| 302432/302432 [00:00<00:00, 2775510.90it/s]\n",
            "100%|██████████| 302432/302432 [00:00<00:00, 2688211.52it/s]\n",
            "100%|██████████| 302432/302432 [00:00<00:00, 2858283.10it/s]\n",
            "100%|██████████| 302432/302432 [00:00<00:00, 2867535.82it/s]\n"
          ]
        },
        {
          "output_type": "stream",
          "name": "stdout",
          "text": [
            "CPU times: user 32min 27s, sys: 5min 46s, total: 38min 13s\n",
            "Wall time: 23min 40s\n"
          ]
        }
      ]
    },
    {
      "cell_type": "code",
      "metadata": {
        "colab": {
          "base_uri": "https://localhost:8080/"
        },
        "id": "O-H3MnrK-zV-",
        "outputId": "75725807-2119-4273-e6b2-6b0d42630539"
      },
      "source": [
        "y_train, X_train = vec_for_learning(model_dmm, train_tagged)\n",
        "y_test, X_test = vec_for_learning(model_dmm, test_tagged)\n",
        "\n",
        "logreg.fit(X_train, y_train)\n",
        "y_pred = logreg.predict(X_test)\n",
        "\n",
        "print('Testing accuracy %s' % accuracy_score(y_test, y_pred))\n",
        "print('Testing F1 score: {}'.format(f1_score(y_test, y_pred, average='weighted')))"
      ],
      "execution_count": 28,
      "outputs": [
        {
          "output_type": "stream",
          "name": "stderr",
          "text": [
            "/usr/local/lib/python3.7/dist-packages/sklearn/linear_model/_logistic.py:818: ConvergenceWarning: lbfgs failed to converge (status=1):\n",
            "STOP: TOTAL NO. of ITERATIONS REACHED LIMIT.\n",
            "\n",
            "Increase the number of iterations (max_iter) or scale the data as shown in:\n",
            "    https://scikit-learn.org/stable/modules/preprocessing.html\n",
            "Please also refer to the documentation for alternative solver options:\n",
            "    https://scikit-learn.org/stable/modules/linear_model.html#logistic-regression\n",
            "  extra_warning_msg=_LOGISTIC_SOLVER_CONVERGENCE_MSG,\n"
          ]
        },
        {
          "output_type": "stream",
          "name": "stdout",
          "text": [
            "Testing accuracy 0.4372256297496432\n",
            "Testing F1 score: 0.37226272991941034\n"
          ]
        }
      ]
    },
    {
      "cell_type": "code",
      "metadata": {
        "id": "HjBvjM_pA-rj"
      },
      "source": [
        "model_dbow.delete_temporary_training_data(keep_doctags_vectors=True, keep_inference=True)\n",
        "model_dmm.delete_temporary_training_data(keep_doctags_vectors=True, keep_inference=True)"
      ],
      "execution_count": 29,
      "outputs": []
    },
    {
      "cell_type": "code",
      "metadata": {
        "colab": {
          "base_uri": "https://localhost:8080/"
        },
        "id": "CjfzlDhaCBVf",
        "outputId": "8ebebfb0-5147-4591-ca04-413eb2958882"
      },
      "source": [
        "!pip install testfixtures"
      ],
      "execution_count": 30,
      "outputs": [
        {
          "output_type": "stream",
          "name": "stdout",
          "text": [
            "Collecting testfixtures\n",
            "  Downloading testfixtures-6.18.3-py2.py3-none-any.whl (95 kB)\n",
            "\u001b[?25l\r\u001b[K     |███▍                            | 10 kB 30.2 MB/s eta 0:00:01\r\u001b[K     |██████▉                         | 20 kB 37.5 MB/s eta 0:00:01\r\u001b[K     |██████████▎                     | 30 kB 43.2 MB/s eta 0:00:01\r\u001b[K     |█████████████▊                  | 40 kB 45.7 MB/s eta 0:00:01\r\u001b[K     |█████████████████               | 51 kB 28.7 MB/s eta 0:00:01\r\u001b[K     |████████████████████▌           | 61 kB 15.3 MB/s eta 0:00:01\r\u001b[K     |████████████████████████        | 71 kB 15.4 MB/s eta 0:00:01\r\u001b[K     |███████████████████████████▍    | 81 kB 17.0 MB/s eta 0:00:01\r\u001b[K     |██████████████████████████████▉ | 92 kB 18.6 MB/s eta 0:00:01\r\u001b[K     |████████████████████████████████| 95 kB 3.8 MB/s \n",
            "\u001b[?25hInstalling collected packages: testfixtures\n",
            "Successfully installed testfixtures-6.18.3\n"
          ]
        }
      ]
    },
    {
      "cell_type": "code",
      "metadata": {
        "id": "rJ2Kaq_wA-tE"
      },
      "source": [
        "from gensim.test.test_doc2vec import ConcatenatedDoc2Vec\n",
        "new_model = ConcatenatedDoc2Vec([model_dbow, model_dmm])\n"
      ],
      "execution_count": 31,
      "outputs": []
    },
    {
      "cell_type": "code",
      "metadata": {
        "id": "4lT48T-vA-x0"
      },
      "source": [
        "def get_vectors(model, tagged_docs):\n",
        "    sents = tagged_docs.values\n",
        "    targets, regressors = zip(*[(doc.tags[0], model.infer_vector(doc.words, steps=20)) for doc in sents])\n",
        "    return targets, regressors"
      ],
      "execution_count": 32,
      "outputs": []
    },
    {
      "cell_type": "code",
      "metadata": {
        "id": "19Bj5CcnA-0C"
      },
      "source": [
        "y_train, X_train = get_vectors(new_model, train_tagged)\n",
        "y_test, X_test = get_vectors(new_model, test_tagged)"
      ],
      "execution_count": 33,
      "outputs": []
    },
    {
      "cell_type": "code",
      "metadata": {
        "id": "3QKxJpMMBJ5K",
        "colab": {
          "base_uri": "https://localhost:8080/"
        },
        "outputId": "36fd7187-479d-4876-dd53-a6d5efa414d6"
      },
      "source": [
        "\n",
        "logreg.fit(X_train, y_train)\n",
        "y_pred = logreg.predict(X_test)\n",
        "\n",
        "print('Testing accuracy %s' % accuracy_score(y_test, y_pred))\n",
        "print('Testing F1 score: {}'.format(f1_score(y_test, y_pred, average='weighted')))"
      ],
      "execution_count": 34,
      "outputs": [
        {
          "output_type": "stream",
          "name": "stderr",
          "text": [
            "/usr/local/lib/python3.7/dist-packages/sklearn/linear_model/_logistic.py:818: ConvergenceWarning: lbfgs failed to converge (status=1):\n",
            "STOP: TOTAL NO. of ITERATIONS REACHED LIMIT.\n",
            "\n",
            "Increase the number of iterations (max_iter) or scale the data as shown in:\n",
            "    https://scikit-learn.org/stable/modules/preprocessing.html\n",
            "Please also refer to the documentation for alternative solver options:\n",
            "    https://scikit-learn.org/stable/modules/linear_model.html#logistic-regression\n",
            "  extra_warning_msg=_LOGISTIC_SOLVER_CONVERGENCE_MSG,\n"
          ]
        },
        {
          "output_type": "stream",
          "name": "stdout",
          "text": [
            "Testing accuracy 0.43753423600663505\n",
            "Testing F1 score: 0.3762390692853275\n"
          ]
        }
      ]
    },
    {
      "cell_type": "code",
      "metadata": {
        "id": "fZUr9a5qS3ez"
      },
      "source": [
        "from sklearn.metrics import confusion_matrix"
      ],
      "execution_count": 35,
      "outputs": []
    },
    {
      "cell_type": "code",
      "metadata": {
        "id": "tWWaR_57BKAJ",
        "colab": {
          "base_uri": "https://localhost:8080/",
          "height": 334
        },
        "outputId": "f014e8e0-cb07-4729-eace-6b3322901e62"
      },
      "source": [
        "conf_mat = confusion_matrix(y_test, y_pred)\n",
        "fig, ax = plt.subplots(figsize=(5,5))\n",
        "sns.heatmap(conf_mat, annot=True, fmt='d',\n",
        "            xticklabels=df.likes_count.unique(), yticklabels=df.likes_count.unique())\n",
        "plt.ylabel('Actual')\n",
        "plt.xlabel('Predicted')\n",
        "plt.show()"
      ],
      "execution_count": 36,
      "outputs": [
        {
          "output_type": "display_data",
          "data": {
            "image/png": "[encoded data removed]",
            "text/plain": [
              "<Figure size 360x360 with 2 Axes>"
            ]
          },
          "metadata": {
            "needs_background": "light"
          }
        }
      ]
    },
    {
      "cell_type": "code",
      "metadata": {
        "id": "Gvmb1GrxBKF3"
      },
      "source": [
        ""
      ],
      "execution_count": null,
      "outputs": []
    }
  ]
}