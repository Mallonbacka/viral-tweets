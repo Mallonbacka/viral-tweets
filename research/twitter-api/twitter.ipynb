{
 "cells": [
  {
   "cell_type": "code",
   "execution_count": 1,
   "metadata": {},
   "outputs": [],
   "source": [
    "import requests\n",
    "from dateutil import parser\n",
    "import pandas as pd\n",
    "import collections\n",
    "import copy\n",
    "import ast\n",
    "import html\n",
    "import time\n",
    "from time import sleep\n",
    "from datetime import datetime, timezone"
   ]
  },
  {
   "cell_type": "code",
   "execution_count": 2,
   "metadata": {},
   "outputs": [],
   "source": [
    "class HTTPError(Exception):\n",
    "    pass\n",
    "\n",
    "\n",
    "def make_headers(bearer_token):\n",
    "    headers = {'Authorization': f'Bearer {bearer_token}'}\n",
    "    return headers\n",
    "\n",
    "\n",
    "def request(url, headers, params):\n",
    "    response = requests.get(url, headers=headers, params=params, timeout=2)\n",
    "    if response.status_code != 200:\n",
    "        print(f\"Request returned an error: {response.status_code} {response.text}\")\n",
    "        raise HTTPError(response)\n",
    "    return response\n",
    "\n",
    "\n",
    "def get_users(user_names, headers):\n",
    "    user_fields = ['name', 'id', 'created_at', 'location', 'public_metrics']\n",
    "    request_params = {\n",
    "        'usernames': ','.join(user_names),\n",
    "        'user.fields': ','.join(user_fields)\n",
    "    }\n",
    "    response = request(\"https://api.twitter.com/2/users/by\", headers, request_params)\n",
    "    results = response.json()\n",
    "    users = results['data']\n",
    "    return users\n",
    "\n",
    "\n",
    "def flatten(ls):\n",
    "    for d in ls:\n",
    "        d['text'] = html.unescape(d['text'])\n",
    "        d['created_at'] = parser.parse(d['created_at'])\n",
    "        metrics = d['public_metrics']\n",
    "        for k, v in metrics.items():\n",
    "            d.update({k:v})\n",
    "        del d['public_metrics']\n",
    "    return ls\n",
    "\n",
    "\n",
    "def wait_if_exceeded(response, wait=False):\n",
    "    if int(response.headers['x-rate-limit-remaining']) < 100 or wait:\n",
    "        reset_unix_timestamp = int(response.headers['x-rate-limit-reset'])\n",
    "        reset_timestamp = datetime.fromtimestamp(reset_unix_timestamp)\n",
    "        remaining = reset_timestamp - datetime.now()\n",
    "        print(f\"Waiting for {remaining:.2f} seconds...\")\n",
    "        sleep(remaining)\n",
    "    return\n",
    "\n",
    "\n",
    "def get_tweets_timeline(user_names, start_time, end_time, bearer_token, max_results=5):\n",
    "    headers = make_headers(bearer_token)\n",
    "    try:\n",
    "        users = get_users(user_names, headers)\n",
    "    except Exception as e:\n",
    "        print(e)\n",
    "        return None, None\n",
    "    tweets = []\n",
    "    tweet_fields = ['lang', 'author_id', 'created_at', 'geo', 'public_metrics', 'source', 'context_annotations']\n",
    "    request_params = {\n",
    "        'tweet.fields':','.join(tweet_fields),\n",
    "        'max_results': str(max_results),\n",
    "        'start_time': start_time,\n",
    "        'end_time': end_time,\n",
    "        'exclude': 'retweets,replies'\n",
    "    }\n",
    "    stop = False\n",
    "    try:\n",
    "        for user in users:\n",
    "            url = f\"https://api.twitter.com/2/users/{user['id']}/tweets\"\n",
    "            nextPageToken = None\n",
    "            while True:\n",
    "                try:\n",
    "                    response = request(url, headers, request_params)\n",
    "                except HTTPError as e:\n",
    "                    r, = e.args\n",
    "                    if r.status_code == 429:\n",
    "                        wait_if_exceeded(r, wait=True)\n",
    "                    else:\n",
    "                        print(f\"Request returned an error: {r.status_code} {r.text}\")\n",
    "                        stop = True\n",
    "                        break\n",
    "                except Exception as e:\n",
    "                    print(\"Something went wrong when requesting.\")\n",
    "                    print(e)\n",
    "                    stop = True\n",
    "                    break\n",
    "                results = response.json()\n",
    "                nextPageToken = results['meta'].get('next_token')\n",
    "                data = results.get('data')\n",
    "                if not nextPageToken:\n",
    "                    if request_params.get('pagination_token'):\n",
    "                        del request_params['pagination_token']\n",
    "                    if data:\n",
    "                        tweets.extend(data)\n",
    "                    break\n",
    "                else:\n",
    "                    request_params.update({'pagination_token': nextPageToken})\n",
    "                tweets.extend(data)\n",
    "                wait_if_exceeded(response)\n",
    "            if stop:\n",
    "                break\n",
    "    finally:\n",
    "        return tweets, users"
   ]
  },
  {
   "cell_type": "code",
   "execution_count": 3,
   "metadata": {},
   "outputs": [],
   "source": [
    "bearer_token = \"apply for a Twitter dev account if you want to run this notebook\""
   ]
  },
  {
   "cell_type": "code",
   "execution_count": 4,
   "metadata": {},
   "outputs": [],
   "source": [
    "tok = {'Authorization':f'Bearer {bearer_token}'}\n",
    "tweet_ids = ['1263150595717730305', '1262485275348885504', '440322224407314432', '1212092628029698048']\n",
    "tweet_fields = ['lang', 'author_id', 'created_at', 'geo', 'public_metrics', 'source', 'context_annotations']\n",
    "fields = {\n",
    "    'tweet.fields': ','.join(tweet_fields),\n",
    "    'ids': ','.join(tweet_ids)\n",
    "}"
   ]
  },
  {
   "cell_type": "code",
   "execution_count": 5,
   "metadata": {},
   "outputs": [
    {
     "name": "stdout",
     "output_type": "stream",
     "text": [
      "<Response [200]>\n"
     ]
    },
    {
     "data": {
      "text/plain": [
       "{'text': 'Do you 👀our new Tweet settings?\\n\\nWe want to know how and why you’d use a feature like this in the API. Get the details and let us know what you think👇\\nhttps://t.co/RtMhhfAcIB https://t.co/8wxeZ9fJER',\n",
       " 'id': '1263150595717730305',\n",
       " 'source': 'Twitter Web App',\n",
       " 'author_id': '2244994945',\n",
       " 'public_metrics': {'retweet_count': 10,\n",
       "  'reply_count': 13,\n",
       "  'like_count': 51,\n",
       "  'quote_count': 7},\n",
       " 'lang': 'en',\n",
       " 'created_at': '2020-05-20T16:52:24.000Z'}"
      ]
     },
     "metadata": {},
     "output_type": "display_data"
    },
    {
     "name": "stdout",
     "output_type": "stream",
     "text": [
      "\n"
     ]
    },
    {
     "data": {
      "text/plain": [
       "{'text': 'Starting today, we’re rolling out a new look for embedded Tweets.\\n\\nCheck it out and share your feedback in the forum post ⬇️\\nhttps://t.co/gkMD0w7mFs',\n",
       " 'id': '1262485275348885504',\n",
       " 'source': 'Twitter Web App',\n",
       " 'author_id': '2244994945',\n",
       " 'public_metrics': {'retweet_count': 1442,\n",
       "  'reply_count': 7,\n",
       "  'like_count': 171643,\n",
       "  'quote_count': 12},\n",
       " 'lang': 'en',\n",
       " 'created_at': '2020-05-18T20:48:40.000Z'}"
      ]
     },
     "metadata": {},
     "output_type": "display_data"
    },
    {
     "name": "stdout",
     "output_type": "stream",
     "text": [
      "\n"
     ]
    },
    {
     "data": {
      "text/plain": [
       "{'text': \"If only Bradley's arm was longer. Best photo ever. #oscars http://t.co/C9U5NOtGap\",\n",
       " 'id': '440322224407314432',\n",
       " 'source': 'Twitter for Android',\n",
       " 'author_id': '15846407',\n",
       " 'public_metrics': {'retweet_count': 2984749,\n",
       "  'reply_count': 205575,\n",
       "  'like_count': 2162224,\n",
       "  'quote_count': 16965},\n",
       " 'lang': 'en',\n",
       " 'created_at': '2014-03-03T03:06:13.000Z'}"
      ]
     },
     "metadata": {},
     "output_type": "display_data"
    },
    {
     "name": "stdout",
     "output_type": "stream",
     "text": [
      "\n"
     ]
    },
    {
     "data": {
      "text/plain": [
       "{'text': 'We believe the best future version of our API will come from building it with YOU. Here’s to another great year with everyone who builds on the Twitter platform. We can’t wait to continue working with you in the new year. https://t.co/yvxdK6aOo2',\n",
       " 'id': '1212092628029698048',\n",
       " 'context_annotations': [{'domain': {'id': '119',\n",
       "    'name': 'Holiday',\n",
       "    'description': 'Holidays like Christmas or Halloween'},\n",
       "   'entity': {'id': '1186637514896920576', 'name': ' New Years Eve'}},\n",
       "  {'domain': {'id': '119',\n",
       "    'name': 'Holiday',\n",
       "    'description': 'Holidays like Christmas or Halloween'},\n",
       "   'entity': {'id': '1206982436287963136',\n",
       "    'name': 'Happy New Year: It’s finally 2020 everywhere!',\n",
       "    'description': 'Catch fireworks and other celebrations as people across the globe enter the new year.\\nPhoto via @GettyImages '}},\n",
       "  {'domain': {'id': '46',\n",
       "    'name': 'Brand Category',\n",
       "    'description': 'Categories within Brand Verticals that narrow down the scope of Brands'},\n",
       "   'entity': {'id': '781974596752842752', 'name': 'Services'}},\n",
       "  {'domain': {'id': '47',\n",
       "    'name': 'Brand',\n",
       "    'description': 'Brands and Companies'},\n",
       "   'entity': {'id': '10045225402', 'name': 'Twitter'}},\n",
       "  {'domain': {'id': '119',\n",
       "    'name': 'Holiday',\n",
       "    'description': 'Holidays like Christmas or Halloween'},\n",
       "   'entity': {'id': '1206982436287963136',\n",
       "    'name': 'Happy New Year: It’s finally 2020 everywhere!',\n",
       "    'description': 'Catch fireworks and other celebrations as people across the globe enter the new year.\\nPhoto via @GettyImages '}}],\n",
       " 'source': 'Twitter Web App',\n",
       " 'author_id': '2244994945',\n",
       " 'public_metrics': {'retweet_count': 7,\n",
       "  'reply_count': 3,\n",
       "  'like_count': 39,\n",
       "  'quote_count': 1},\n",
       " 'lang': 'en',\n",
       " 'created_at': '2019-12-31T19:26:16.000Z'}"
      ]
     },
     "metadata": {},
     "output_type": "display_data"
    },
    {
     "name": "stdout",
     "output_type": "stream",
     "text": [
      "\n"
     ]
    }
   ],
   "source": [
    "test_req = requests.get(\"https://api.twitter.com/2/tweets\", headers=tok, params=fields)\n",
    "print(test_req)\n",
    "test_res = test_req.json()\n",
    "\n",
    "for tweet in test_res['data']:\n",
    "    display(tweet)\n",
    "    print()"
   ]
  },
  {
   "cell_type": "code",
   "execution_count": 6,
   "metadata": {},
   "outputs": [],
   "source": [
    "user_names = ['nokia', 'pepsi', 'discord', 'Microsoft']\n",
    "user_fields = ['id', 'created_at', 'location', 'public_metrics']\n",
    "fields = {\n",
    "    'usernames': ','.join(user_names),\n",
    "    'user.fields': ','.join(user_fields)\n",
    "}"
   ]
  },
  {
   "cell_type": "code",
   "execution_count": 7,
   "metadata": {},
   "outputs": [
    {
     "name": "stdout",
     "output_type": "stream",
     "text": [
      "<Response [200]>\n"
     ]
    }
   ],
   "source": [
    "user_req = requests.get(\"https://api.twitter.com/2/users/by\", headers=tok, params=fields)\n",
    "print(user_req)\n",
    "user_res = user_req.json()"
   ]
  },
  {
   "cell_type": "code",
   "execution_count": 8,
   "metadata": {},
   "outputs": [
    {
     "data": {
      "text/plain": [
       "{'name': 'Nokia',\n",
       " 'location': 'Espoo, Finland',\n",
       " 'public_metrics': {'followers_count': 2131192,\n",
       "  'following_count': 151291,\n",
       "  'tweet_count': 45806,\n",
       "  'listed_count': 7936},\n",
       " 'created_at': '2009-03-16T17:15:33.000Z',\n",
       " 'id': '24727891',\n",
       " 'username': 'nokia'}"
      ]
     },
     "metadata": {},
     "output_type": "display_data"
    },
    {
     "name": "stdout",
     "output_type": "stream",
     "text": [
      "\n"
     ]
    },
    {
     "data": {
      "text/plain": [
       "{'name': 'Pepsi',\n",
       " 'public_metrics': {'followers_count': 2999797,\n",
       "  'following_count': 38366,\n",
       "  'tweet_count': 69768,\n",
       "  'listed_count': 6008},\n",
       " 'created_at': '2008-12-15T16:26:23.000Z',\n",
       " 'id': '18139619',\n",
       " 'username': 'pepsi'}"
      ]
     },
     "metadata": {},
     "output_type": "display_data"
    },
    {
     "name": "stdout",
     "output_type": "stream",
     "text": [
      "\n"
     ]
    },
    {
     "data": {
      "text/plain": [
       "{'name': 'Discord',\n",
       " 'location': 'San Francisco, CA',\n",
       " 'public_metrics': {'followers_count': 3335277,\n",
       "  'following_count': 1091,\n",
       "  'tweet_count': 462397,\n",
       "  'listed_count': 3233},\n",
       " 'created_at': '2015-03-07T01:00:18.000Z',\n",
       " 'id': '3065618342',\n",
       " 'username': 'discord'}"
      ]
     },
     "metadata": {},
     "output_type": "display_data"
    },
    {
     "name": "stdout",
     "output_type": "stream",
     "text": [
      "\n"
     ]
    },
    {
     "data": {
      "text/plain": [
       "{'name': 'Microsoft',\n",
       " 'location': 'Redmond, WA',\n",
       " 'public_metrics': {'followers_count': 9684171,\n",
       "  'following_count': 2534,\n",
       "  'tweet_count': 24175,\n",
       "  'listed_count': 25285},\n",
       " 'created_at': '2009-09-14T22:35:42.000Z',\n",
       " 'id': '74286565',\n",
       " 'username': 'Microsoft'}"
      ]
     },
     "metadata": {},
     "output_type": "display_data"
    },
    {
     "name": "stdout",
     "output_type": "stream",
     "text": [
      "\n"
     ]
    }
   ],
   "source": [
    "for user in user_res['data']:\n",
    "    display(user)\n",
    "    print()"
   ]
  },
  {
   "cell_type": "code",
   "execution_count": 9,
   "metadata": {},
   "outputs": [],
   "source": [
    "tweet_fields = ['lang', 'author_id', 'created_at', 'geo', 'public_metrics', 'source', 'context_annotations']\n",
    "timeline_fields = {\n",
    "    'tweet.fields':','.join(tweet_fields),\n",
    "    'max_results': '5',\n",
    "    'start_time': '2021-01-01T00:00:00Z',\n",
    "    'end_time': '2021-01-10T00:00:00Z',\n",
    "    'expansions': 'author_id',\n",
    "    'user.fields': 'name,public_metrics',\n",
    "    'exclude': 'retweets,replies'\n",
    "}"
   ]
  },
  {
   "cell_type": "code",
   "execution_count": 10,
   "metadata": {},
   "outputs": [
    {
     "name": "stdout",
     "output_type": "stream",
     "text": [
      "<Response [200]>\n"
     ]
    }
   ],
   "source": [
    "timeline_req = requests.get('https://api.twitter.com/2/users/3065618342/tweets', headers=make_headers(bearer_token), params=timeline_fields)\n",
    "print(timeline_req)\n",
    "timeline_res = timeline_req.json()"
   ]
  },
  {
   "cell_type": "code",
   "execution_count": 11,
   "metadata": {},
   "outputs": [
    {
     "data": {
      "text/plain": [
       "{'data': [{'public_metrics': {'retweet_count': 2340,\n",
       "    'reply_count': 1193,\n",
       "    'like_count': 58422,\n",
       "    'quote_count': 187},\n",
       "   'source': 'Agorapulse app',\n",
       "   'author_id': '3065618342',\n",
       "   'text': 'the gangs all here https://t.co/HA7Qt3vHm4',\n",
       "   'id': '1347622377056776197',\n",
       "   'lang': 'en',\n",
       "   'created_at': '2021-01-08T19:13:06.000Z',\n",
       "   'context_annotations': [{'domain': {'id': '47',\n",
       "      'name': 'Brand',\n",
       "      'description': 'Brands and Companies'},\n",
       "     'entity': {'id': '1168499224297656321', 'name': 'Discord'}}]},\n",
       "  {'public_metrics': {'retweet_count': 353,\n",
       "    'reply_count': 289,\n",
       "    'like_count': 5669,\n",
       "    'quote_count': 31},\n",
       "   'source': 'Agorapulse app',\n",
       "   'author_id': '3065618342',\n",
       "   'text': 'tip of the day: click on text channel and press escape to mark individual text channel as read \\n\\nbonus tip: shift + esc to mark ALL channels as read https://t.co/FMhs4r9Y19',\n",
       "   'id': '1346894357320921092',\n",
       "   'lang': 'en',\n",
       "   'created_at': '2021-01-06T19:00:13.000Z',\n",
       "   'context_annotations': [{'domain': {'id': '47',\n",
       "      'name': 'Brand',\n",
       "      'description': 'Brands and Companies'},\n",
       "     'entity': {'id': '1168499224297656321', 'name': 'Discord'}}]},\n",
       "  {'public_metrics': {'retweet_count': 8349,\n",
       "    'reply_count': 4608,\n",
       "    'like_count': 133332,\n",
       "    'quote_count': 2169},\n",
       "   'source': 'Agorapulse app',\n",
       "   'author_id': '3065618342',\n",
       "   'text': 'maybe this is the year some of you finally learn how to use push to talk',\n",
       "   'id': '1346176089169809410',\n",
       "   'lang': 'en',\n",
       "   'created_at': '2021-01-04T19:26:05.000Z',\n",
       "   'context_annotations': [{'domain': {'id': '47',\n",
       "      'name': 'Brand',\n",
       "      'description': 'Brands and Companies'},\n",
       "     'entity': {'id': '1168499224297656321', 'name': 'Discord'}}]},\n",
       "  {'public_metrics': {'retweet_count': 614,\n",
       "    'reply_count': 612,\n",
       "    'like_count': 24715,\n",
       "    'quote_count': 52},\n",
       "   'source': 'Twitter Web App',\n",
       "   'author_id': '3065618342',\n",
       "   'text': \"some1 from our art team made this and i'm just posting it https://t.co/ubkQ6SX8TO\",\n",
       "   'id': '1345446715168444417',\n",
       "   'lang': 'en',\n",
       "   'created_at': '2021-01-02T19:07:48.000Z',\n",
       "   'context_annotations': [{'domain': {'id': '47',\n",
       "      'name': 'Brand',\n",
       "      'description': 'Brands and Companies'},\n",
       "     'entity': {'id': '1168499224297656321', 'name': 'Discord'}}]}],\n",
       " 'includes': {'users': [{'public_metrics': {'followers_count': 3335277,\n",
       "     'following_count': 1091,\n",
       "     'tweet_count': 462397,\n",
       "     'listed_count': 3233},\n",
       "    'id': '3065618342',\n",
       "    'name': 'Discord',\n",
       "    'username': 'discord'}]},\n",
       " 'meta': {'oldest_id': '1345446715168444417',\n",
       "  'newest_id': '1347622377056776197',\n",
       "  'result_count': 4}}"
      ]
     },
     "execution_count": 11,
     "metadata": {},
     "output_type": "execute_result"
    }
   ],
   "source": [
    "timeline_res"
   ]
  },
  {
   "cell_type": "code",
   "execution_count": 12,
   "metadata": {},
   "outputs": [],
   "source": [
    "timeline_req.encoding = 'unicode'"
   ]
  },
  {
   "cell_type": "code",
   "execution_count": 13,
   "metadata": {},
   "outputs": [
    {
     "data": {
      "text/plain": [
       "'1498'"
      ]
     },
     "execution_count": 13,
     "metadata": {},
     "output_type": "execute_result"
    }
   ],
   "source": [
    "timeline_req.headers['x-rate-limit-remaining']"
   ]
  },
  {
   "cell_type": "code",
   "execution_count": 14,
   "metadata": {},
   "outputs": [
    {
     "data": {
      "text/plain": [
       "{'date': 'Sat, 18 Sep 2021 18:42:32 UTC', 'server': 'tsa_o', 'set-cookie': 'personalization_id=\"v1_2/h4mk++t6ox9UhSkjC7cw==\"; Max-Age=63072000; Expires=Mon, 18 Sep 2023 18:42:32 GMT; Path=/; Domain=.twitter.com; Secure; SameSite=None, guest_id=v1%3A163199055199735969; Max-Age=63072000; Expires=Mon, 18 Sep 2023 18:42:32 GMT; Path=/; Domain=.twitter.com; Secure; SameSite=None', 'api-version': '2.24', 'content-type': 'application/json; charset=utf-8', 'cache-control': 'no-cache, no-store, max-age=0', 'content-length': '775', 'x-access-level': 'read', 'x-frame-options': 'SAMEORIGIN', 'content-encoding': 'gzip', 'x-xss-protection': '0', 'x-rate-limit-limit': '1500', 'x-rate-limit-reset': '1631991376', 'content-disposition': 'attachment; filename=json.json', 'x-content-type-options': 'nosniff', 'x-rate-limit-remaining': '1498', 'strict-transport-security': 'max-age=631138519', 'x-connection-hash': '9aa998527f40eaba6e317183f93d613a0b538db5a67a288a8136c7dd35002a27'}"
      ]
     },
     "execution_count": 14,
     "metadata": {},
     "output_type": "execute_result"
    }
   ],
   "source": [
    "timeline_req.headers"
   ]
  },
  {
   "cell_type": "code",
   "execution_count": 15,
   "metadata": {},
   "outputs": [],
   "source": [
    "remaining = datetime.fromtimestamp(int(timeline_req.headers['x-rate-limit-reset'])) - datetime.now()"
   ]
  },
  {
   "cell_type": "code",
   "execution_count": 16,
   "metadata": {},
   "outputs": [
    {
     "data": {
      "text/plain": [
       "824.376159"
      ]
     },
     "execution_count": 16,
     "metadata": {},
     "output_type": "execute_result"
    }
   ],
   "source": [
    "remaining.total_seconds()"
   ]
  },
  {
   "cell_type": "code",
   "execution_count": 17,
   "metadata": {},
   "outputs": [
    {
     "data": {
      "text/plain": [
       "datetime.datetime(2021, 9, 18, 18, 56, 16)"
      ]
     },
     "execution_count": 17,
     "metadata": {},
     "output_type": "execute_result"
    }
   ],
   "source": [
    "datetime.utcfromtimestamp(int(timeline_req.headers['x-rate-limit-reset']))"
   ]
  },
  {
   "cell_type": "code",
   "execution_count": 18,
   "metadata": {},
   "outputs": [
    {
     "data": {
      "text/plain": [
       "datetime.datetime(2021, 9, 18, 18, 56, 16)"
      ]
     },
     "execution_count": 18,
     "metadata": {},
     "output_type": "execute_result"
    }
   ],
   "source": [
    "datetime.utcfromtimestamp(int(timeline_req.headers['x-rate-limit-reset']))"
   ]
  },
  {
   "cell_type": "code",
   "execution_count": 19,
   "metadata": {},
   "outputs": [
    {
     "data": {
      "text/plain": [
       "{'public_metrics': {'retweet_count': 2340,\n",
       "  'reply_count': 1193,\n",
       "  'like_count': 58422,\n",
       "  'quote_count': 187},\n",
       " 'source': 'Agorapulse app',\n",
       " 'author_id': '3065618342',\n",
       " 'text': 'the gangs all here https://t.co/HA7Qt3vHm4',\n",
       " 'id': '1347622377056776197',\n",
       " 'lang': 'en',\n",
       " 'created_at': '2021-01-08T19:13:06.000Z',\n",
       " 'context_annotations': [{'domain': {'id': '47',\n",
       "    'name': 'Brand',\n",
       "    'description': 'Brands and Companies'},\n",
       "   'entity': {'id': '1168499224297656321', 'name': 'Discord'}}]}"
      ]
     },
     "metadata": {},
     "output_type": "display_data"
    },
    {
     "name": "stdout",
     "output_type": "stream",
     "text": [
      "\n"
     ]
    },
    {
     "data": {
      "text/plain": [
       "{'public_metrics': {'retweet_count': 353,\n",
       "  'reply_count': 289,\n",
       "  'like_count': 5669,\n",
       "  'quote_count': 31},\n",
       " 'source': 'Agorapulse app',\n",
       " 'author_id': '3065618342',\n",
       " 'text': 'tip of the day: click on text channel and press escape to mark individual text channel as read \\n\\nbonus tip: shift + esc to mark ALL channels as read https://t.co/FMhs4r9Y19',\n",
       " 'id': '1346894357320921092',\n",
       " 'lang': 'en',\n",
       " 'created_at': '2021-01-06T19:00:13.000Z',\n",
       " 'context_annotations': [{'domain': {'id': '47',\n",
       "    'name': 'Brand',\n",
       "    'description': 'Brands and Companies'},\n",
       "   'entity': {'id': '1168499224297656321', 'name': 'Discord'}}]}"
      ]
     },
     "metadata": {},
     "output_type": "display_data"
    },
    {
     "name": "stdout",
     "output_type": "stream",
     "text": [
      "\n"
     ]
    },
    {
     "data": {
      "text/plain": [
       "{'public_metrics': {'retweet_count': 8349,\n",
       "  'reply_count': 4608,\n",
       "  'like_count': 133332,\n",
       "  'quote_count': 2169},\n",
       " 'source': 'Agorapulse app',\n",
       " 'author_id': '3065618342',\n",
       " 'text': 'maybe this is the year some of you finally learn how to use push to talk',\n",
       " 'id': '1346176089169809410',\n",
       " 'lang': 'en',\n",
       " 'created_at': '2021-01-04T19:26:05.000Z',\n",
       " 'context_annotations': [{'domain': {'id': '47',\n",
       "    'name': 'Brand',\n",
       "    'description': 'Brands and Companies'},\n",
       "   'entity': {'id': '1168499224297656321', 'name': 'Discord'}}]}"
      ]
     },
     "metadata": {},
     "output_type": "display_data"
    },
    {
     "name": "stdout",
     "output_type": "stream",
     "text": [
      "\n"
     ]
    },
    {
     "data": {
      "text/plain": [
       "{'public_metrics': {'retweet_count': 614,\n",
       "  'reply_count': 612,\n",
       "  'like_count': 24715,\n",
       "  'quote_count': 52},\n",
       " 'source': 'Twitter Web App',\n",
       " 'author_id': '3065618342',\n",
       " 'text': \"some1 from our art team made this and i'm just posting it https://t.co/ubkQ6SX8TO\",\n",
       " 'id': '1345446715168444417',\n",
       " 'lang': 'en',\n",
       " 'created_at': '2021-01-02T19:07:48.000Z',\n",
       " 'context_annotations': [{'domain': {'id': '47',\n",
       "    'name': 'Brand',\n",
       "    'description': 'Brands and Companies'},\n",
       "   'entity': {'id': '1168499224297656321', 'name': 'Discord'}}]}"
      ]
     },
     "metadata": {},
     "output_type": "display_data"
    },
    {
     "name": "stdout",
     "output_type": "stream",
     "text": [
      "\n",
      "{'users': [{'public_metrics': {'followers_count': 3335277, 'following_count': 1091, 'tweet_count': 462397, 'listed_count': 3233}, 'id': '3065618342', 'name': 'Discord', 'username': 'discord'}]}\n",
      "{'oldest_id': '1345446715168444417', 'newest_id': '1347622377056776197', 'result_count': 4}\n"
     ]
    }
   ],
   "source": [
    "for item in timeline_res['data']:\n",
    "    display(item)\n",
    "    print()\n",
    "\n",
    "print(timeline_res['includes'])\n",
    "print(timeline_res['meta'])"
   ]
  },
  {
   "cell_type": "code",
   "execution_count": 20,
   "metadata": {},
   "outputs": [
    {
     "data": {
      "text/plain": [
       "b'{\"data\":[{\"public_metrics\":{\"retweet_count\":2340,\"reply_count\":1193,\"like_count\":58422,\"quote_count\":187},\"source\":\"Agorapulse app\",\"author_id\":\"3065618342\",\"text\":\"the gangs all here https://t.co/HA7Qt3vHm4\",\"id\":\"1347622377056776197\",\"lang\":\"en\",\"created_at\":\"2021-01-08T19:13:06.000Z\",\"context_annotations\":[{\"domain\":{\"id\":\"47\",\"name\":\"Brand\",\"description\":\"Brands and Companies\"},\"entity\":{\"id\":\"1168499224297656321\",\"name\":\"Discord\"}}]},{\"public_metrics\":{\"retweet_count\":353,\"reply_count\":289,\"like_count\":5669,\"quote_count\":31},\"source\":\"Agorapulse app\",\"author_id\":\"3065618342\",\"text\":\"tip of the day: click on text channel and press escape to mark individual text channel as read \\\\n\\\\nbonus tip: shift + esc to mark ALL channels as read https://t.co/FMhs4r9Y19\",\"id\":\"1346894357320921092\",\"lang\":\"en\",\"created_at\":\"2021-01-06T19:00:13.000Z\",\"context_annotations\":[{\"domain\":{\"id\":\"47\",\"name\":\"Brand\",\"description\":\"Brands and Companies\"},\"entity\":{\"id\":\"1168499224297656321\",\"name\":\"Discord\"}}]},{\"public_metrics\":{\"retweet_count\":8349,\"reply_count\":4608,\"like_count\":133332,\"quote_count\":2169},\"source\":\"Agorapulse app\",\"author_id\":\"3065618342\",\"text\":\"maybe this is the year some of you finally learn how to use push to talk\",\"id\":\"1346176089169809410\",\"lang\":\"en\",\"created_at\":\"2021-01-04T19:26:05.000Z\",\"context_annotations\":[{\"domain\":{\"id\":\"47\",\"name\":\"Brand\",\"description\":\"Brands and Companies\"},\"entity\":{\"id\":\"1168499224297656321\",\"name\":\"Discord\"}}]},{\"public_metrics\":{\"retweet_count\":614,\"reply_count\":612,\"like_count\":24715,\"quote_count\":52},\"source\":\"Twitter Web App\",\"author_id\":\"3065618342\",\"text\":\"some1 from our art team made this and i\\'m just posting it https://t.co/ubkQ6SX8TO\",\"id\":\"1345446715168444417\",\"lang\":\"en\",\"created_at\":\"2021-01-02T19:07:48.000Z\",\"context_annotations\":[{\"domain\":{\"id\":\"47\",\"name\":\"Brand\",\"description\":\"Brands and Companies\"},\"entity\":{\"id\":\"1168499224297656321\",\"name\":\"Discord\"}}]}],\"includes\":{\"users\":[{\"public_metrics\":{\"followers_count\":3335277,\"following_count\":1091,\"tweet_count\":462397,\"listed_count\":3233},\"id\":\"3065618342\",\"name\":\"Discord\",\"username\":\"discord\"}]},\"meta\":{\"oldest_id\":\"1345446715168444417\",\"newest_id\":\"1347622377056776197\",\"result_count\":4}}'"
      ]
     },
     "execution_count": 20,
     "metadata": {},
     "output_type": "execute_result"
    }
   ],
   "source": [
    "timeline_req.content"
   ]
  },
  {
   "cell_type": "code",
   "execution_count": 21,
   "metadata": {},
   "outputs": [],
   "source": [
    "user_names = ['discord']\n",
    "tweets, users = get_tweets_timeline(user_names, '2021-01-01T00:00:00Z', '2021-01-10T00:00:00Z', bearer_token, max_results=100)"
   ]
  },
  {
   "cell_type": "code",
   "execution_count": 22,
   "metadata": {},
   "outputs": [
    {
     "data": {
      "text/plain": [
       "[{'created_at': '2021-01-08T19:13:06.000Z',\n",
       "  'source': 'Agorapulse app',\n",
       "  'public_metrics': {'retweet_count': 2340,\n",
       "   'reply_count': 1193,\n",
       "   'like_count': 58422,\n",
       "   'quote_count': 187},\n",
       "  'text': 'the gangs all here https://t.co/HA7Qt3vHm4',\n",
       "  'context_annotations': [{'domain': {'id': '47',\n",
       "     'name': 'Brand',\n",
       "     'description': 'Brands and Companies'},\n",
       "    'entity': {'id': '1168499224297656321', 'name': 'Discord'}}],\n",
       "  'lang': 'en',\n",
       "  'author_id': '3065618342',\n",
       "  'id': '1347622377056776197'},\n",
       " {'created_at': '2021-01-06T19:00:13.000Z',\n",
       "  'source': 'Agorapulse app',\n",
       "  'public_metrics': {'retweet_count': 353,\n",
       "   'reply_count': 289,\n",
       "   'like_count': 5669,\n",
       "   'quote_count': 31},\n",
       "  'text': 'tip of the day: click on text channel and press escape to mark individual text channel as read \\n\\nbonus tip: shift + esc to mark ALL channels as read https://t.co/FMhs4r9Y19',\n",
       "  'context_annotations': [{'domain': {'id': '47',\n",
       "     'name': 'Brand',\n",
       "     'description': 'Brands and Companies'},\n",
       "    'entity': {'id': '1168499224297656321', 'name': 'Discord'}}],\n",
       "  'lang': 'en',\n",
       "  'author_id': '3065618342',\n",
       "  'id': '1346894357320921092'},\n",
       " {'created_at': '2021-01-04T19:26:05.000Z',\n",
       "  'source': 'Agorapulse app',\n",
       "  'public_metrics': {'retweet_count': 8349,\n",
       "   'reply_count': 4608,\n",
       "   'like_count': 133332,\n",
       "   'quote_count': 2169},\n",
       "  'text': 'maybe this is the year some of you finally learn how to use push to talk',\n",
       "  'context_annotations': [{'domain': {'id': '47',\n",
       "     'name': 'Brand',\n",
       "     'description': 'Brands and Companies'},\n",
       "    'entity': {'id': '1168499224297656321', 'name': 'Discord'}}],\n",
       "  'lang': 'en',\n",
       "  'author_id': '3065618342',\n",
       "  'id': '1346176089169809410'},\n",
       " {'created_at': '2021-01-02T19:07:48.000Z',\n",
       "  'source': 'Twitter Web App',\n",
       "  'public_metrics': {'retweet_count': 614,\n",
       "   'reply_count': 612,\n",
       "   'like_count': 24715,\n",
       "   'quote_count': 52},\n",
       "  'text': \"some1 from our art team made this and i'm just posting it https://t.co/ubkQ6SX8TO\",\n",
       "  'context_annotations': [{'domain': {'id': '47',\n",
       "     'name': 'Brand',\n",
       "     'description': 'Brands and Companies'},\n",
       "    'entity': {'id': '1168499224297656321', 'name': 'Discord'}}],\n",
       "  'lang': 'en',\n",
       "  'author_id': '3065618342',\n",
       "  'id': '1345446715168444417'}]"
      ]
     },
     "execution_count": 22,
     "metadata": {},
     "output_type": "execute_result"
    }
   ],
   "source": [
    "tweets_orig = copy.deepcopy(tweets)\n",
    "tweets_orig"
   ]
  },
  {
   "cell_type": "code",
   "execution_count": 23,
   "metadata": {},
   "outputs": [
    {
     "name": "stdout",
     "output_type": "stream",
     "text": [
      "4\n"
     ]
    }
   ],
   "source": [
    "print(len(tweets))"
   ]
  },
  {
   "cell_type": "code",
   "execution_count": 24,
   "metadata": {},
   "outputs": [
    {
     "data": {
      "text/html": [
       "<div>\n",
       "<style scoped>\n",
       "    .dataframe tbody tr th:only-of-type {\n",
       "        vertical-align: middle;\n",
       "    }\n",
       "\n",
       "    .dataframe tbody tr th {\n",
       "        vertical-align: top;\n",
       "    }\n",
       "\n",
       "    .dataframe thead th {\n",
       "        text-align: right;\n",
       "    }\n",
       "</style>\n",
       "<table border=\"1\" class=\"dataframe\">\n",
       "  <thead>\n",
       "    <tr style=\"text-align: right;\">\n",
       "      <th></th>\n",
       "      <th>created_at</th>\n",
       "      <th>source</th>\n",
       "      <th>text</th>\n",
       "      <th>context_annotations</th>\n",
       "      <th>lang</th>\n",
       "      <th>author_id</th>\n",
       "      <th>id</th>\n",
       "      <th>retweet_count</th>\n",
       "      <th>reply_count</th>\n",
       "      <th>like_count</th>\n",
       "      <th>quote_count</th>\n",
       "    </tr>\n",
       "  </thead>\n",
       "  <tbody>\n",
       "    <tr>\n",
       "      <th>0</th>\n",
       "      <td>2021-01-08 19:13:06+00:00</td>\n",
       "      <td>Agorapulse app</td>\n",
       "      <td>the gangs all here https://t.co/HA7Qt3vHm4</td>\n",
       "      <td>[{'domain': {'id': '47', 'name': 'Brand', 'des...</td>\n",
       "      <td>en</td>\n",
       "      <td>3065618342</td>\n",
       "      <td>1347622377056776197</td>\n",
       "      <td>2340</td>\n",
       "      <td>1193</td>\n",
       "      <td>58422</td>\n",
       "      <td>187</td>\n",
       "    </tr>\n",
       "    <tr>\n",
       "      <th>1</th>\n",
       "      <td>2021-01-06 19:00:13+00:00</td>\n",
       "      <td>Agorapulse app</td>\n",
       "      <td>tip of the day: click on text channel and pres...</td>\n",
       "      <td>[{'domain': {'id': '47', 'name': 'Brand', 'des...</td>\n",
       "      <td>en</td>\n",
       "      <td>3065618342</td>\n",
       "      <td>1346894357320921092</td>\n",
       "      <td>353</td>\n",
       "      <td>289</td>\n",
       "      <td>5669</td>\n",
       "      <td>31</td>\n",
       "    </tr>\n",
       "    <tr>\n",
       "      <th>2</th>\n",
       "      <td>2021-01-04 19:26:05+00:00</td>\n",
       "      <td>Agorapulse app</td>\n",
       "      <td>maybe this is the year some of you finally lea...</td>\n",
       "      <td>[{'domain': {'id': '47', 'name': 'Brand', 'des...</td>\n",
       "      <td>en</td>\n",
       "      <td>3065618342</td>\n",
       "      <td>1346176089169809410</td>\n",
       "      <td>8349</td>\n",
       "      <td>4608</td>\n",
       "      <td>133332</td>\n",
       "      <td>2169</td>\n",
       "    </tr>\n",
       "    <tr>\n",
       "      <th>3</th>\n",
       "      <td>2021-01-02 19:07:48+00:00</td>\n",
       "      <td>Twitter Web App</td>\n",
       "      <td>some1 from our art team made this and i'm just...</td>\n",
       "      <td>[{'domain': {'id': '47', 'name': 'Brand', 'des...</td>\n",
       "      <td>en</td>\n",
       "      <td>3065618342</td>\n",
       "      <td>1345446715168444417</td>\n",
       "      <td>614</td>\n",
       "      <td>612</td>\n",
       "      <td>24715</td>\n",
       "      <td>52</td>\n",
       "    </tr>\n",
       "  </tbody>\n",
       "</table>\n",
       "</div>"
      ],
      "text/plain": [
       "                 created_at           source  \\\n",
       "0 2021-01-08 19:13:06+00:00   Agorapulse app   \n",
       "1 2021-01-06 19:00:13+00:00   Agorapulse app   \n",
       "2 2021-01-04 19:26:05+00:00   Agorapulse app   \n",
       "3 2021-01-02 19:07:48+00:00  Twitter Web App   \n",
       "\n",
       "                                                text  \\\n",
       "0         the gangs all here https://t.co/HA7Qt3vHm4   \n",
       "1  tip of the day: click on text channel and pres...   \n",
       "2  maybe this is the year some of you finally lea...   \n",
       "3  some1 from our art team made this and i'm just...   \n",
       "\n",
       "                                 context_annotations lang   author_id  \\\n",
       "0  [{'domain': {'id': '47', 'name': 'Brand', 'des...   en  3065618342   \n",
       "1  [{'domain': {'id': '47', 'name': 'Brand', 'des...   en  3065618342   \n",
       "2  [{'domain': {'id': '47', 'name': 'Brand', 'des...   en  3065618342   \n",
       "3  [{'domain': {'id': '47', 'name': 'Brand', 'des...   en  3065618342   \n",
       "\n",
       "                    id  retweet_count  reply_count  like_count  quote_count  \n",
       "0  1347622377056776197           2340         1193       58422          187  \n",
       "1  1346894357320921092            353          289        5669           31  \n",
       "2  1346176089169809410           8349         4608      133332         2169  \n",
       "3  1345446715168444417            614          612       24715           52  "
      ]
     },
     "execution_count": 24,
     "metadata": {},
     "output_type": "execute_result"
    }
   ],
   "source": [
    "df = pd.DataFrame(flatten(tweets))\n",
    "df"
   ]
  },
  {
   "cell_type": "code",
   "execution_count": 25,
   "metadata": {},
   "outputs": [
    {
     "name": "stdout",
     "output_type": "stream",
     "text": [
      "<class 'pandas.core.frame.DataFrame'>\n",
      "RangeIndex: 4 entries, 0 to 3\n",
      "Data columns (total 11 columns):\n",
      " #   Column               Non-Null Count  Dtype                  \n",
      "---  ------               --------------  -----                  \n",
      " 0   created_at           4 non-null      datetime64[ns, tzutc()]\n",
      " 1   source               4 non-null      object                 \n",
      " 2   text                 4 non-null      object                 \n",
      " 3   context_annotations  4 non-null      object                 \n",
      " 4   lang                 4 non-null      object                 \n",
      " 5   author_id            4 non-null      object                 \n",
      " 6   id                   4 non-null      object                 \n",
      " 7   retweet_count        4 non-null      int64                  \n",
      " 8   reply_count          4 non-null      int64                  \n",
      " 9   like_count           4 non-null      int64                  \n",
      " 10  quote_count          4 non-null      int64                  \n",
      "dtypes: datetime64[ns, tzutc()](1), int64(4), object(6)\n",
      "memory usage: 480.0+ bytes\n"
     ]
    }
   ],
   "source": [
    "df.info()"
   ]
  },
  {
   "cell_type": "code",
   "execution_count": 26,
   "metadata": {},
   "outputs": [],
   "source": [
    "# df.to_csv(\"discord.csv\", index=False)"
   ]
  },
  {
   "cell_type": "code",
   "execution_count": 27,
   "metadata": {},
   "outputs": [],
   "source": [
    "# df = pd.read_csv(\"discord.csv\")\n",
    "# df['context_annotations'] = df['context_annotations'].apply(lambda x: ast.literal_eval(x))"
   ]
  }
 ],
 "metadata": {
  "kernelspec": {
   "display_name": "Python 3 (ipykernel)",
   "language": "python",
   "name": "python3"
  },
  "language_info": {
   "codemirror_mode": {
    "name": "ipython",
    "version": 3
   },
   "file_extension": ".py",
   "mimetype": "text/x-python",
   "name": "python",
   "nbconvert_exporter": "python",
   "pygments_lexer": "ipython3",
   "version": "3.8.11"
  }
 },
 "nbformat": 4,
 "nbformat_minor": 4
}
